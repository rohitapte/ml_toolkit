{
 "cells": [
  {
   "cell_type": "markdown",
   "metadata": {
    "colab_type": "text",
    "id": "Gc9IfCbORvux"
   },
   "source": [
    "# Bayesian Optimization Workshop: <BR>from hyperparameters optimization to Neural architecture search (NAS) \n",
    "\n",
    "[![Open in Colab](https://colab.research.google.com/assets/colab-badge.svg)](https://colab.research.google.com/github/lmassaron/kaggledays-2019-gbdt/blob/master/skopt_workshop_part2.ipynb)\n",
    "\n",
    "\n",
    "## Instructors\n",
    "* Luca Massaron [@lmassaron](https://www.linkedin.com/in/lmassaron/) - Data Scientist / Author / Google Developer Expert in Machine Learning\n",
    "\n",
    "## About the workshop\n",
    "In this workshop we demonstrate how to use different optimization approaches based on [Scikit-Optimize](https://github.com/scikit-optimize/scikit-optimize), a library built on top of NumPy, SciPy and Scikit-Learn, and we present an easy and fast approach to set them ready and usable.\n",
    "\n",
    "In the first part, we start from trying to optimize Gradient Boosting Decision Trees (GBDT), which presently represent the state of the art for building predictors for flat table data. However, GBDT seldom perform the best out-of-the-box (using default values) because of the many hyper-parameters to tune. Especially in the most recent GBDT implementations, such as LightGBM, the over-sophistication of hyper-parameters renders finding the optimal settings by hand or simple grid search difficult because of high combinatorial complexity and long running times for experiments.\n",
    "\n",
    "In the second part, we try to leverage what we have learned so far and challenge the Neural Architecture Search (NAS) problem.\n",
    "\n",
    "## Prerequisites\n",
    "You should be aware of the role and importance of hyper-parameter optimization in machine learning.  \n",
    "\n",
    "\n",
    "## Dealing with the Tutorial Material\n",
    "In order to make the workshop easily accessible, we are prepared cloud access:\n",
    "* Using [Google Colab](https://colab.research.google.com/github/lmassaron/kaggledays-2019-gbdt/blob/master/skopt_workshop.ipynb)\n",
    "\n",
    "## References\n",
    "* [Random Optimization](https://papers.nips.cc/paper/4522-practical-bayesian-optimization-of-machine-learning-algorithms.pdf) (BERGSTRA, James; BENGIO, Yoshua. Random search for hyper-parameter optimization. Journal of Machine Learning Research, 2012, 13.Feb: 281-305.) \n",
    "* [Bayesian Optimization](https://papers.nips.cc/paper/4522-practical-bayesian-optimization-of-machine-learning-algorithms.pdf) (SNOEK, Jasper; LAROCHELLE, Hugo; ADAMS, Ryan P. Practical bayesian optimization of machine learning algorithms. In: Advances in neural information processing systems. 2012. p. 2951-2959)\n",
    "\n",
    "For a brief introduction about the key models we will be using during this works we suggest consulting: BOSCHETTI, Alberto; MASSARON, Luca. Python data science essentials. Packt Publishing Ltd, 3rd ed., 2018"
   ]
  },
  {
   "cell_type": "markdown",
   "metadata": {
    "colab_type": "text",
    "id": "9XoG1kDoRvxB"
   },
   "source": [
    "# PART II : towards an effective usage"
   ]
  },
  {
   "cell_type": "code",
   "execution_count": 26,
   "metadata": {
    "colab": {
     "base_uri": "https://localhost:8080/",
     "height": 241
    },
    "colab_type": "code",
    "id": "YNp6uFiBpTWP",
    "outputId": "c694a908-4edb-4158-9018-7ead1c7e3a6b"
   },
   "outputs": [
    {
     "name": "stdout",
     "output_type": "stream",
     "text": [
      "Collecting git+https://github.com/scikit-optimize/scikit-optimize.git\n",
      "  Cloning https://github.com/scikit-optimize/scikit-optimize.git to /tmp/pip-req-build-f8qdfbu0\n",
      "Requirement already satisfied (use --upgrade to upgrade): scikit-optimize==0.5.2+49.g074ce8e from git+https://github.com/scikit-optimize/scikit-optimize.git in /usr/local/lib/python3.6/dist-packages\n",
      "Requirement already satisfied: pyaml in /usr/local/lib/python3.6/dist-packages (from scikit-optimize==0.5.2+49.g074ce8e) (18.11.0)\n",
      "Requirement already satisfied: numpy in /usr/local/lib/python3.6/dist-packages (from scikit-optimize==0.5.2+49.g074ce8e) (1.16.2)\n",
      "Requirement already satisfied: scipy>=0.14.0 in /usr/local/lib/python3.6/dist-packages (from scikit-optimize==0.5.2+49.g074ce8e) (1.2.1)\n",
      "Requirement already satisfied: scikit-learn>=0.19.1 in /usr/local/lib/python3.6/dist-packages (from scikit-optimize==0.5.2+49.g074ce8e) (0.20.3)\n",
      "Requirement already satisfied: PyYAML in /usr/local/lib/python3.6/dist-packages (from pyaml->scikit-optimize==0.5.2+49.g074ce8e) (3.13)\n",
      "Building wheels for collected packages: scikit-optimize\n",
      "  Building wheel for scikit-optimize (setup.py) ... \u001b[?25ldone\n",
      "\u001b[?25h  Stored in directory: /tmp/pip-ephem-wheel-cache-brqmbtbb/wheels/11/6f/86/2b772172db85ad0b4487d67e325e535ee8e7782b2a1dfcadf5\n",
      "Successfully built scikit-optimize\n"
     ]
    }
   ],
   "source": [
    "# Installing the most recent version of skopt directly from Github\n",
    "!pip install git+https://github.com/scikit-optimize/scikit-optimize.git"
   ]
  },
  {
   "cell_type": "code",
   "execution_count": 27,
   "metadata": {
    "colab": {
     "base_uri": "https://localhost:8080/",
     "height": 156
    },
    "colab_type": "code",
    "id": "0KzRjOc5pTjl",
    "outputId": "66357605-45b3-4ef4-f626-c0a6b2324f0e"
   },
   "outputs": [
    {
     "name": "stdout",
     "output_type": "stream",
     "text": [
      "Requirement already up-to-date: catboost in /usr/local/lib/python3.6/dist-packages (0.14.1)\n",
      "Requirement already satisfied, skipping upgrade: pandas>=0.19.1 in /usr/local/lib/python3.6/dist-packages (from catboost) (0.23.4)\n",
      "Requirement already satisfied, skipping upgrade: six in /usr/local/lib/python3.6/dist-packages (from catboost) (1.11.0)\n",
      "Requirement already satisfied, skipping upgrade: numpy>=1.11.1 in /usr/local/lib/python3.6/dist-packages (from catboost) (1.16.2)\n",
      "Requirement already satisfied, skipping upgrade: enum34 in /usr/local/lib/python3.6/dist-packages (from catboost) (1.1.6)\n",
      "Requirement already satisfied, skipping upgrade: pytz>=2011k in /usr/local/lib/python3.6/dist-packages (from pandas>=0.19.1->catboost) (2018.9)\n",
      "Requirement already satisfied, skipping upgrade: python-dateutil>=2.5.0 in /usr/local/lib/python3.6/dist-packages (from pandas>=0.19.1->catboost) (2.5.3)\n"
     ]
    }
   ],
   "source": [
    "# Assuring you have the most recent CatBoost release\n",
    "!pip install catboost -U"
   ]
  },
  {
   "cell_type": "code",
   "execution_count": 0,
   "metadata": {
    "colab": {},
    "colab_type": "code",
    "id": "SZn4vmNYpTua"
   },
   "outputs": [],
   "source": [
    "# Importing core libraries\n",
    "import numpy as np\n",
    "import pandas as pd\n",
    "from time import time\n",
    "import pprint\n",
    "import joblib\n",
    "\n",
    "# Suppressing warnings because of skopt verbosity\n",
    "import warnings\n",
    "warnings.filterwarnings(\"ignore\")\n",
    "\n",
    "# Our example dataset\n",
    "from sklearn.datasets import load_boston\n",
    "\n",
    "# Classifiers\n",
    "from sklearn.ensemble import GradientBoostingClassifier, GradientBoostingRegressor\n",
    "from sklearn.ensemble import RandomForestClassifier\n",
    "from sklearn.pipeline import Pipeline\n",
    "import lightgbm as lgb\n",
    "import xgboost as xgb\n",
    "from catboost import CatBoostClassifier\n",
    "\n",
    "# Hyperparameters distributions\n",
    "from scipy.stats import randint\n",
    "from scipy.stats import uniform\n",
    "\n",
    "# Model selection\n",
    "from sklearn.model_selection import StratifiedKFold\n",
    "from sklearn.model_selection import GridSearchCV, RandomizedSearchCV\n",
    "from sklearn.model_selection import cross_val_score\n",
    "\n",
    "# Metrics\n",
    "from sklearn.metrics import average_precision_score\n",
    "from sklearn.metrics import make_scorer\n",
    "\n",
    "# Plotting\n",
    "from matplotlib import pyplot as plt\n",
    "import seaborn\n",
    "%matplotlib inline\n",
    "\n",
    "# Skopt functions\n",
    "from skopt import BayesSearchCV\n",
    "from skopt import gp_minimize # Bayesian optimization using Gaussian Processes\n",
    "from skopt.space import Real, Categorical, Integer\n",
    "from skopt.utils import use_named_args # decorator to convert a list of parameters to named arguments\n",
    "from skopt.callbacks import DeadlineStopper # Stop the optimization before running out of a fixed budget of time.\n",
    "from skopt.callbacks import VerboseCallback # Callback to control the verbosity\n",
    "from skopt.callbacks import DeltaXStopper # Stop the optimization If the last two positions at which the objective has been evaluated are less than delta\n",
    "\n",
    "n_jobs=-1"
   ]
  },
  {
   "cell_type": "code",
   "execution_count": 0,
   "metadata": {
    "colab": {},
    "colab_type": "code",
    "id": "B7R_4ujcqilp"
   },
   "outputs": [],
   "source": [
    "# Reporting util for different optimizers\n",
    "def report_perf(optimizer, X, y, title, callbacks=None):\n",
    "    \"\"\"\n",
    "    A wrapper for measuring time and performances of different optmizers\n",
    "    \n",
    "    optimizer = a sklearn or a skopt optimizer\n",
    "    X = the training set \n",
    "    y = our target\n",
    "    title = a string label for the experiment\n",
    "    \"\"\"\n",
    "    start = time()\n",
    "    if callbacks:\n",
    "        optimizer.fit(X, y, callback=callbacks)\n",
    "    else:\n",
    "        optimizer.fit(X, y)\n",
    "    best_score = optimizer.best_score_\n",
    "    best_score_std = optimizer.cv_results_['std_test_score'][optimizer.best_index_]\n",
    "    best_params = optimizer.best_params_\n",
    "    print((title + \" took %.2f seconds,  candidates checked: %d, best CV score: %.3f \"\n",
    "           +u\"\\u00B1\"+\" %.3f\") % (time() - start, \n",
    "                                  len(optimizer.cv_results_['params']),\n",
    "                                  best_score,\n",
    "                                  best_score_std))    \n",
    "    print('Best parameters:')\n",
    "    pprint.pprint(best_params)\n",
    "    print()\n",
    "    return best_params\n",
    "\n",
    "# Converting average precision score into a scorer suitable for model selection\n",
    "avg_prec = make_scorer(average_precision_score, greater_is_better=True, needs_proba=True)\n",
    "\n",
    "# Setting a 5-fold stratified cross-validation (note: shuffle=True)\n",
    "skf = StratifiedKFold(n_splits=5, shuffle=True, random_state=0)"
   ]
  },
  {
   "cell_type": "code",
   "execution_count": 0,
   "metadata": {
    "colab": {},
    "colab_type": "code",
    "id": "CQLT-3vLrFA5"
   },
   "outputs": [],
   "source": [
    "# Uploading the Boston dataset\n",
    "X, y = load_boston(return_X_y=True)\n",
    "\n",
    "# Transforming the problem into a classification (unbalanced)\n",
    "y_bin = (y > np.percentile(y, 90)).astype(int)"
   ]
  },
  {
   "cell_type": "code",
   "execution_count": 0,
   "metadata": {
    "colab": {},
    "colab_type": "code",
    "id": "6FwRTftcrFsu"
   },
   "outputs": [],
   "source": [
    "#CRIM - per capita crime rate by town\n",
    "#ZN - proportion of residential land zoned for lots over 25,000 sq.ft.\n",
    "#INDUS - proportion of non-retail business acres per town.\n",
    "#CHAS - Charles River dummy variable (1 if tract bounds river; 0 otherwise)\n",
    "#NOX - nitric oxides concentration (parts per 10 million)\n",
    "#RM - average number of rooms per dwelling\n",
    "#AGE - proportion of owner-occupied units built prior to 1940\n",
    "#DIS - weighted distances to five Boston employment centres\n",
    "#RAD - index of accessibility to radial highways\n",
    "#TAX - full-value property-tax rate per $10,000\n",
    "#PTRATIO - pupil-teacher ratio by town\n",
    "#B - 1000(Bk - 0.63)^2 where Bk is the proportion of blacks by town\n",
    "#LSTAT - % lower status of the population\n",
    "#MEDV - Median value of owner-occupied homes in $1000's this is our target variable"
   ]
  },
  {
   "cell_type": "code",
   "execution_count": 32,
   "metadata": {
    "colab": {
     "base_uri": "https://localhost:8080/",
     "height": 280
    },
    "colab_type": "code",
    "id": "EUyt9-RBrHyA",
    "outputId": "cfb37257-aab2-45f3-d8fc-7ed20ad6042f"
   },
   "outputs": [
    {
     "data": {
      "image/png": "[encoded data removed]",
      "text/plain": [
       "<Figure size 432x288 with 1 Axes>"
      ]
     },
     "metadata": {
      "tags": []
     },
     "output_type": "display_data"
    }
   ],
   "source": [
    "# Histogram highlighting the top 10% we use as a target\n",
    "plt.hist(y[y <= np.percentile(y, 90)], bins='auto', alpha=0.7, label='0', color='b')\n",
    "plt.hist(y[y > np.percentile(y, 90)], bins=8, alpha=0.7, label='1', color='r')\n",
    "plt.title(\"Histogram of MEDV\")\n",
    "plt.legend(loc='upper right')\n",
    "plt.show()"
   ]
  },
  {
   "cell_type": "markdown",
   "metadata": {
    "colab_type": "text",
    "id": "XEP-4N8BRvxC"
   },
   "source": [
    "# A Practical Example: Optimizing LightGBM"
   ]
  },
  {
   "cell_type": "markdown",
   "metadata": {
    "colab_type": "text",
    "id": "Re1MTGLzRvxD"
   },
   "source": [
    "### LightGbm\n",
    "The high-performance [LightGBM](https://github.com/Microsoft/LightGBM) algorithm is capable of being distributed and of fast-handling large amounts of data. It has been developed by a team at Microsoft as an open source project on GitHub (there is also an [academic paper](https://papers.nips.cc/paper/6907-lightgbm-a-highly-efficientgradient-boosting-decision-tree)). \n",
    "\n",
    "LightGBM is based on decision trees, as well as XGBoost, yet it follows a different strategy.\n",
    "Whereas XGBoost uses decision trees to split on a variable and exploring different cuts at that variable (the level-wise tree growth strategy), LightGBM concentrates on a split and goes on splitting from there in order to achieve a better fitting (this is the leaf-wise tree\n",
    "growth strategy). This allows LightGBM to reach first and fast a good fit of the data, and to generate alternative solutions compared to XGBoost (which is good, if you expect to blend, i.e. average, the two solutions together in order to reduce the variance of the estimated). Algorithmically talking, figuring out as a graph the structures of cuts operated by a decision tree, XGBoost peruses a breadth-first search (BFS), whereas LightGBM a depthfirst search (DFS).\n",
    "\n",
    "Tuning LightGBM may appear daunting with more than a [hundred parameters](https://github.com/Microsoft/LightGBM/blob/master/docs/Parameters.rst) (also to be found [here](https://lightgbm.readthedocs.io/en/latest/Parameters.html)) to tune."
   ]
  },
  {
   "cell_type": "code",
   "execution_count": 34,
   "metadata": {
    "colab": {
     "base_uri": "https://localhost:8080/",
     "height": 306
    },
    "colab_type": "code",
    "id": "anDzO9nBRvxF",
    "outputId": "b410deae-fc0d-4ef2-edba-c4b8e2f4f214"
   },
   "outputs": [
    {
     "name": "stdout",
     "output_type": "stream",
     "text": [
      "LightGBM took 270.63 seconds,  candidates checked: 31, best CV score: 0.927 ± 0.058\n",
      "Best parameters:\n",
      "{'colsample_bytree': 0.3200094536415732,\n",
      " 'learning_rate': 0.01,\n",
      " 'max_bin': 100,\n",
      " 'max_depth': 179,\n",
      " 'min_child_samples': 0,\n",
      " 'min_child_weight': 2,\n",
      " 'n_estimators': 7676,\n",
      " 'num_leaves': 500,\n",
      " 'reg_alpha': 0.9444340710142283,\n",
      " 'reg_lambda': 0.6597373818413536,\n",
      " 'scale_pos_weight': 0.6594079576173991,\n",
      " 'subsample': 0.9923669100402286,\n",
      " 'subsample_for_bin': 355905,\n",
      " 'subsample_freq': 6}\n",
      "\n"
     ]
    }
   ],
   "source": [
    "clf = lgb.LGBMClassifier(boosting_type='gbdt',\n",
    "                         class_weight='balanced',\n",
    "                         objective='binary',\n",
    "                         n_jobs=1, \n",
    "                         verbose=0)\n",
    "\n",
    "search_spaces = {\n",
    "        'learning_rate': Real(0.01, 1.0, 'log-uniform'),\n",
    "        'num_leaves': Integer(2, 500),\n",
    "        'max_depth': Integer(0, 500),\n",
    "        'min_child_samples': Integer(0, 200), # minimal number of data in one leaf\n",
    "        'max_bin': Integer(100, 100000), # max number of bins that feature values will be bucketed\n",
    "        'subsample': Real(0.01, 1.0, 'uniform'),\n",
    "        'subsample_freq': Integer(0, 10), # bagging fraction\n",
    "        'colsample_bytree': Real(0.01, 1.0, 'uniform'), # enabler of bagging fraction\n",
    "        'min_child_weight': Integer(0, 10), # minimal number of data in one leaf.\n",
    "        'subsample_for_bin': Integer(100000, 500000), # number of data that sampled for histogram bins\n",
    "        'reg_lambda': Real(1e-9, 1000, 'log-uniform'), # L2 regularization\n",
    "        'reg_alpha': Real(1e-9, 1.0, 'log-uniform'), # L1 regularization\n",
    "        'scale_pos_weight': Real(1e-6, 500, 'log-uniform'), \n",
    "        'n_estimators': Integer(10, 10000)        \n",
    "        }\n",
    "\n",
    "opt = BayesSearchCV(clf,\n",
    "                    search_spaces,\n",
    "                    scoring=avg_prec,\n",
    "                    cv=skf,\n",
    "                    n_iter=40,\n",
    "                    n_jobs=-1,\n",
    "                    return_train_score=False,\n",
    "                    refit=True,\n",
    "                    optimizer_kwargs={'base_estimator': 'GP'},\n",
    "                    random_state=22)\n",
    "    \n",
    "best_params = report_perf(opt, X, y_bin,'LightGBM', \n",
    "                          callbacks=[DeltaXStopper(0.001), \n",
    "                                     DeadlineStopper(60*5)])"
   ]
  },
  {
   "cell_type": "code",
   "execution_count": 0,
   "metadata": {
    "colab": {},
    "colab_type": "code",
    "id": "JUTFLEnoRvxM"
   },
   "outputs": [],
   "source": [
    "counter = 0\n",
    "\n",
    "clf = lgb.LGBMClassifier(boosting_type='gbdt',\n",
    "                         class_weight='balanced',\n",
    "                         objective='binary',\n",
    "                         n_jobs=1, \n",
    "                         verbose=0)\n",
    "\n",
    "dimensions = [Real(0.01, 1.0, 'log-uniform', name='learning_rate'),\n",
    "              Integer(2, 500, name='num_leaves'),\n",
    "              Integer(0, 500, name='max_depth'),\n",
    "              Integer(0, 200, name='min_child_samples'),\n",
    "              Integer(100, 100000, name='max_bin'),\n",
    "              Real(0.01, 1.0, 'uniform', name='subsample'),\n",
    "              Integer(0, 10, name='subsample_freq'),\n",
    "              Real(0.01, 1.0, 'uniform', name='colsample_bytree'),\n",
    "              Integer(0, 10, name='min_child_weight'),\n",
    "              Integer(100000, 500000, name='subsample_for_bin'),\n",
    "              Real(1e-9, 1000, 'log-uniform', name='reg_lambda'),\n",
    "              Real(1e-9, 1.0, 'log-uniform', name='reg_alpha'),\n",
    "              Real(1e-6, 500, 'log-uniform', name='scale_pos_weight'),\n",
    "              Integer(10, 10000, name='n_estimators')]\n",
    "\n",
    "# The objective function to be minimized\n",
    "def make_objective(model, X, y, space, cv, scoring):\n",
    "    # This decorator converts your objective function with named arguments into one that\n",
    "    # accepts a list as argument, while doing the conversion automatically.\n",
    "    @use_named_args(space) \n",
    "    def objective(**params):\n",
    "        model.set_params(**params)\n",
    "        return -np.mean(cross_val_score(model, \n",
    "                                        X, y, \n",
    "                                        cv=cv, \n",
    "                                        n_jobs=-1,\n",
    "                                        scoring=scoring))\n",
    "    return objective\n",
    "\n",
    "objective = make_objective(clf,\n",
    "                           X, y_bin,\n",
    "                           space=dimensions,\n",
    "                           cv=skf,\n",
    "                           scoring=avg_prec)"
   ]
  },
  {
   "cell_type": "code",
   "execution_count": 59,
   "metadata": {
    "colab": {
     "base_uri": "https://localhost:8080/",
     "height": 377
    },
    "colab_type": "code",
    "id": "w6kUwIXJRvxP",
    "outputId": "84b654a0-59a9-438b-a3de-6831bb8fbb78"
   },
   "outputs": [
    {
     "name": "stdout",
     "output_type": "stream",
     "text": [
      "Last eval:  [0.02848906260926589, 161, 489, 91, 30870, 0.2712321306475197, 1, 0.4251784883123234, 0, 311106, 26.645108834238002, 9.496274156079435e-07, 0.002619348997981635, 6747]  - Score  -0.1007765482430596\n",
      "Current iter:  0  - Score  -0.1007765482430596  - Args:  [0.02848906260926589, 161, 489, 91, 30870, 0.2712321306475197, 1, 0.4251784883123234, 0, 311106, 26.645108834238002, 9.496274156079435e-07, 0.002619348997981635, 6747]\n",
      "Last eval:  [0.2211233200687724, 348, 173, 186, 26332, 0.7532551005821186, 3, 0.8527816404253235, 2, 416305, 178.4645772067005, 1.095045483795558e-05, 0.0022184775182806722, 3581]  - Score  -0.1007765482430596\n",
      "Current iter:  1  - Score  -0.1007765482430596  - Args:  [0.02848906260926589, 161, 489, 91, 30870, 0.2712321306475197, 1, 0.4251784883123234, 0, 311106, 26.645108834238002, 9.496274156079435e-07, 0.002619348997981635, 6747]\n",
      "Last eval:  [0.02436190508232831, 52, 241, 123, 95130, 0.3552688118981681, 3, 0.45204083607316786, 10, 171831, 5.159278367758748e-08, 5.643816697371209e-09, 0.05759462438024217, 3109]  - Score  -0.1007765482430596\n",
      "Current iter:  2  - Score  -0.1007765482430596  - Args:  [0.02848906260926589, 161, 489, 91, 30870, 0.2712321306475197, 1, 0.4251784883123234, 0, 311106, 26.645108834238002, 9.496274156079435e-07, 0.002619348997981635, 6747]\n",
      "Last eval:  [0.036765413368033246, 461, 217, 84, 98624, 0.7956342983145053, 3, 0.307335685328769, 5, 349302, 0.07650111834271556, 2.1489283637488493e-07, 0.0033482236099689746, 6676]  - Score  -0.1007765482430596\n",
      "Current iter:  3  - Score  -0.1007765482430596  - Args:  [0.02848906260926589, 161, 489, 91, 30870, 0.2712321306475197, 1, 0.4251784883123234, 0, 311106, 26.645108834238002, 9.496274156079435e-07, 0.002619348997981635, 6747]\n",
      "Last eval:  [0.07568374719544937, 391, 342, 147, 48993, 0.9544514920010971, 2, 0.6526276640345808, 6, 447413, 5.290980835305423e-08, 1.0743335173861622e-05, 0.5428137986259088, 6620]  - Score  -0.5184708747168858\n",
      "Current iter:  4  - Score  -0.5184708747168858  - Args:  [0.07568374719544937, 391, 342, 147, 48993, 0.9544514920010971, 2, 0.6526276640345808, 6, 447413, 5.290980835305423e-08, 1.0743335173861622e-05, 0.5428137986259088, 6620]\n",
      "Last eval:  [0.47548110586714587, 267, 20, 19, 79910, 0.4083645994626534, 7, 0.5069042541174733, 4, 414327, 260.63557428396865, 2.0969660888077091e-07, 0.03329930701856852, 8682]  - Score  -0.1007765482430596\n",
      "Current iter:  5  - Score  -0.5184708747168858  - Args:  [0.07568374719544937, 391, 342, 147, 48993, 0.9544514920010971, 2, 0.6526276640345808, 6, 447413, 5.290980835305423e-08, 1.0743335173861622e-05, 0.5428137986259088, 6620]\n",
      "Last eval:  [0.08293216060373823, 57, 400, 100, 19798, 0.8773143587445786, 3, 0.24456885606236203, 4, 254361, 6.267403019545165e-07, 3.8195699908270306e-08, 0.0029281270257610842, 8418]  - Score  -0.4932644929680439\n",
      "Current iter:  6  - Score  -0.5184708747168858  - Args:  [0.07568374719544937, 391, 342, 147, 48993, 0.9544514920010971, 2, 0.6526276640345808, 6, 447413, 5.290980835305423e-08, 1.0743335173861622e-05, 0.5428137986259088, 6620]\n",
      "Last eval:  [0.3745080737521305, 321, 248, 95, 47476, 0.9441414325971597, 7, 0.051157271586472694, 8, 305360, 1.3839138544254465e-07, 3.372981975245276e-06, 149.1039700696765, 2137]  - Score  -0.6843172927234125\n",
      "Current iter:  7  - Score  -0.6843172927234125  - Args:  [0.3745080737521305, 321, 248, 95, 47476, 0.9441414325971597, 7, 0.051157271586472694, 8, 305360, 1.3839138544254465e-07, 3.372981975245276e-06, 149.1039700696765, 2137]\n",
      "Last eval:  [0.42324568665282264, 203, 293, 37, 81251, 0.5850389357102426, 4, 0.8001005930590471, 5, 267367, 1.6977743026226538e-09, 0.0014254878711280096, 0.01761769861494498, 2214]  - Score  -0.3623421719518635\n",
      "Current iter:  8  - Score  -0.6843172927234125  - Args:  [0.3745080737521305, 321, 248, 95, 47476, 0.9441414325971597, 7, 0.051157271586472694, 8, 305360, 1.3839138544254465e-07, 3.372981975245276e-06, 149.1039700696765, 2137]\n",
      "Last eval:  [0.12620776965554556, 262, 244, 53, 52776, 0.9846210751689275, 6, 0.6332613654964749, 9, 485008, 0.010500201470771384, 3.0484544036415625e-08, 0.0025495207496935173, 9446]  - Score  -0.1007765482430596\n",
      "Current iter:  9  - Score  -0.6843172927234125  - Args:  [0.3745080737521305, 321, 248, 95, 47476, 0.9441414325971597, 7, 0.051157271586472694, 8, 305360, 1.3839138544254465e-07, 3.372981975245276e-06, 149.1039700696765, 2137]\n"
     ]
    }
   ],
   "source": [
    "gp_round = gp_minimize(func=objective,\n",
    "                       dimensions=dimensions,\n",
    "                       acq_func='gp_hedge',\n",
    "                       n_calls=10, # Minimum is 10 calls\n",
    "                       callback=[onstep],\n",
    "                       random_state=7)"
   ]
  },
  {
   "cell_type": "code",
   "execution_count": 60,
   "metadata": {
    "colab": {
     "base_uri": "https://localhost:8080/",
     "height": 54
    },
    "colab_type": "code",
    "id": "zY46ARHqRvxT",
    "outputId": "ee9c344f-ea64-430b-e055-60ebc8976e7e"
   },
   "outputs": [
    {
     "name": "stdout",
     "output_type": "stream",
     "text": [
      "[0.12324384123200562, 414, 117, 41, 95838, 0.7684912331585715, 2, 0.47468749760756623, 5, 168945, 3.8096250370376167e-06, 2.625825905482537e-07, 51.89197450218198, 5038] -0.8572449837163276\n"
     ]
    }
   ],
   "source": [
    "x0, y0 = joblib.load('checkpoint.pkl')\n",
    "\n",
    "gp_round = gp_minimize(func=objective,\n",
    "                       x0=x0,              # already examined values for x\n",
    "                       y0=y0,              # observed values for x0\n",
    "                       dimensions=dimensions,\n",
    "                       acq_func='gp_hedge', # Expected Improvement.\n",
    "                       n_calls=10,\n",
    "                       #callback=[onstep],\n",
    "                       random_state=3)\n",
    "\n",
    "best_parameters = gp_round.x\n",
    "best_result = gp_round.fun\n",
    "print(best_parameters, best_result)"
   ]
  },
  {
   "cell_type": "markdown",
   "metadata": {
    "colab_type": "text",
    "id": "O3SsbSwPRvxX"
   },
   "source": [
    "# Practical example: Optimizing XGBoost"
   ]
  },
  {
   "cell_type": "markdown",
   "metadata": {
    "colab_type": "text",
    "id": "VDvBGSmORvxY"
   },
   "source": [
    "### XGBoost\n",
    "\n",
    "[XGBoost](https://github.com/dmlc/XGBoost) stands for eXtreme Gradient Boosting, an open source project that is not part of Scikit-learn, though recently it has been expanded by a Scikit-Learn wrapper interface that renders using models based on XGBoost more integrated into your data pipeline.\n",
    "\n",
    "The XGBoost algorithm has gained recently gained momentum and popularity in datascience competitions such as Kaggle and the KDD-cup 2015. As the authors (Tianqui Chen, Tong He, and Carlos Guestrin) report on papers they wrote on the algorithm, among 29 challenges held on Kaggle during 2015, 17 winning solutions used XGBoost as a standalone solution or as part of an ensemble of multiple different models.\n",
    "\n",
    "Apart from the successful performances in both accuracy and computational efficiency, XGBoost is also a scalable solution under different points of view. XGBoost represents a new generation of GBM algorithms thanks to important tweaks to the initial tree boost GBM algorithm:\n",
    "\n",
    "* A sparse-aware algorithm; it can leverage sparse matrices, saving both memory (no need for dense matrices) and computation time (zero values are handled in a special way).\n",
    "* Approximate tree learning (weighted quantile sketch), which bears similar results but in much less time than the classical complete explorations of possible branch cuts.\n",
    "* Parallel computing on a single machine (using multi-threading in the phase of the search for the best split) and similarly distributed computations on multiple ones. \n",
    "* Out-of-core computations on a single machine leveraging a data storage solution called Column Block. This arranges data on a disk by columns, thus saving time by pulling data from the disk as the optimization algorithm (which works on column vectors) expects it.\n",
    "* XGBoost can also deal with missing data in an effective way. Other tree ensembles based on standard decision trees require missing data first to be imputed using an off-scale value, such as a negative number, in order to develop an appropriate branching of the tree to deal with missing values.\n",
    "\n",
    "As for as XGBoost's [parameters](https://xgboost.readthedocs.io/en/latest/parameter.html), we have decided to work on a few key ones you will find across competitions and projects.  "
   ]
  },
  {
   "cell_type": "code",
   "execution_count": 0,
   "metadata": {
    "colab": {},
    "colab_type": "code",
    "id": "2pu82Fy1RvxZ"
   },
   "outputs": [],
   "source": [
    "clf = xgb.XGBClassifier(\n",
    "        n_jobs = 1,\n",
    "        objective = 'binary:logistic',\n",
    "        silent=1,\n",
    "        tree_method='approx')"
   ]
  },
  {
   "cell_type": "code",
   "execution_count": 0,
   "metadata": {
    "colab": {},
    "colab_type": "code",
    "id": "S4fGg7KqRvxc"
   },
   "outputs": [],
   "source": [
    "search_spaces = {'learning_rate': Real(0.01, 1.0, 'log-uniform'),\n",
    "                 'min_child_weight': Integer(0, 10),\n",
    "                 'max_depth': Integer(1, 50),\n",
    "                 'max_delta_step': Integer(0, 20), # Maximum delta step we allow each leaf output\n",
    "                 'subsample': Real(0.01, 1.0, 'uniform'),\n",
    "                 'colsample_bytree': Real(0.01, 1.0, 'uniform'), # subsample ratio of columns by tree\n",
    "                 'colsample_bylevel': Real(0.01, 1.0, 'uniform'), # subsample ratio by level in trees\n",
    "                 'reg_lambda': Real(1e-9, 1000, 'log-uniform'), # L2 regularization\n",
    "                 'reg_alpha': Real(1e-9, 1.0, 'log-uniform'), # L1 regularization\n",
    "                 'gamma': Real(1e-9, 0.5, 'log-uniform'), # Minimum loss reduction for partition\n",
    "                 'n_estimators': Integer(50, 100),\n",
    "                 'scale_pos_weight': Real(1e-6, 500, 'log-uniform')}"
   ]
  },
  {
   "cell_type": "code",
   "execution_count": 65,
   "metadata": {
    "colab": {
     "base_uri": "https://localhost:8080/",
     "height": 272
    },
    "colab_type": "code",
    "id": "3SH81Up9Rvxh",
    "outputId": "23de6f26-d6c4-4c06-f065-e214b8967449"
   },
   "outputs": [
    {
     "name": "stdout",
     "output_type": "stream",
     "text": [
      "XGBoost took 107.17 seconds,  candidates checked: 40, best CV score: 0.922 ± 0.081\n",
      "Best parameters:\n",
      "{'colsample_bylevel': 0.04334407493951863,\n",
      " 'colsample_bytree': 1.0,\n",
      " 'gamma': 4.94716569768279e-05,\n",
      " 'learning_rate': 0.07046086205661303,\n",
      " 'max_delta_step': 0,\n",
      " 'max_depth': 49,\n",
      " 'min_child_weight': 1,\n",
      " 'n_estimators': 61,\n",
      " 'reg_alpha': 0.01532015629161949,\n",
      " 'reg_lambda': 0.07669037760197192,\n",
      " 'scale_pos_weight': 7.06962814248252,\n",
      " 'subsample': 1.0}\n",
      "\n"
     ]
    }
   ],
   "source": [
    "opt = BayesSearchCV(clf,\n",
    "                    search_spaces,\n",
    "                    scoring=avg_prec,\n",
    "                    cv=skf,\n",
    "                    n_iter=40,\n",
    "                    n_jobs=-1,\n",
    "                    return_train_score=False,\n",
    "                    refit=True,\n",
    "                    optimizer_kwargs={'base_estimator': 'GP'},\n",
    "                    random_state=22)\n",
    "    \n",
    "best_params = report_perf(opt, X, y_bin,'XGBoost',                           \n",
    "                          callbacks=[DeltaXStopper(0.001), \n",
    "                                     DeadlineStopper(60*5)])"
   ]
  },
  {
   "cell_type": "markdown",
   "metadata": {
    "colab_type": "text",
    "id": "z2uGBuGURvxl"
   },
   "source": [
    "# Practical Example: Optimizing CatBoost"
   ]
  },
  {
   "cell_type": "markdown",
   "metadata": {
    "colab_type": "text",
    "id": "PxHLiZZrRvxm"
   },
   "source": [
    "### CatBoost\n",
    "In July 2017, another interesting GBM algorithm was made public by Yandex, the Russian search engine: it is [CatBoost](https://catboost.yandex/), whose name comes from putting together the two words Category and Boosting. In fact, its strongest point is the capability of handling categorical variables, which actually make the most of information in most relational databases, by adopting a mixed strategy of one-hot-encoding and mean encoding (a way to express categorical levels by assigning them an appropriate numeric value for the problem at hand; more on that later).\n",
    "\n",
    "The idea used by CatBoost to encode the categorical variables is not new, but it has been a kind of feature engineering used various times, mostly in data science competitions like at Kaggle’s. Mean encoding, also known as likelihood encoding, impact coding, or target coding, is simply a way to transform your labels into a number based on their association with the target variable. If you have a regression, you could transform labels based on the mean target value typical of that level; if it is a classification, it is simply the probability of classification of your target given that label (probability of your target, conditional on each category value). It may appear as a simple and smart feature engineering trick, but actually, it has side effects, mostly in terms of overfitting because you are taking information from the target into your predictors.\n",
    "\n",
    "CatBoost has quite a few [parameters](https://tech.yandex.com/catboost/doc/dg/concepts/python-reference_parameters-list-docpage/#python-reference_parameters-list), we have delimited our search to the 9 most important ones. "
   ]
  },
  {
   "cell_type": "code",
   "execution_count": 0,
   "metadata": {
    "colab": {},
    "colab_type": "code",
    "id": "iCsu8V-hRvxn"
   },
   "outputs": [],
   "source": [
    "clf = CatBoostClassifier(loss_function='Logloss',\n",
    "                         verbose = False)"
   ]
  },
  {
   "cell_type": "code",
   "execution_count": 0,
   "metadata": {
    "colab": {},
    "colab_type": "code",
    "id": "srqK_CRuRvx6"
   },
   "outputs": [],
   "source": [
    "search_spaces = {'iterations': Integer(10, 100),\n",
    "                 'depth': Integer(1, 8),\n",
    "                 'learning_rate': Real(0.01, 1.0, 'log-uniform'),\n",
    "                 'random_strength': Real(1e-9, 10, 'log-uniform'), # randomness for scoring splits\n",
    "                 'bagging_temperature': Real(0.0, 1.0), # settings of the Bayesian bootstrap\n",
    "                 'border_count': Integer(1, 255), # splits for numerical features\n",
    "                 'l2_leaf_reg': Integer(2, 30), # L2 regularization\n",
    "                 'scale_pos_weight':Real(0.01, 10.0, 'uniform')}"
   ]
  },
  {
   "cell_type": "code",
   "execution_count": 68,
   "metadata": {
    "colab": {
     "base_uri": "https://localhost:8080/",
     "height": 204
    },
    "colab_type": "code",
    "id": "O9_YKa0HRvyA",
    "outputId": "f246dab6-dc27-4048-d78c-c910209d7354"
   },
   "outputs": [
    {
     "name": "stdout",
     "output_type": "stream",
     "text": [
      "CatBoost took 276.67 seconds,  candidates checked: 37, best CV score: 0.935 ± 0.063\n",
      "Best parameters:\n",
      "{'bagging_temperature': 0.9410700873598651,\n",
      " 'border_count': 202,\n",
      " 'depth': 3,\n",
      " 'iterations': 100,\n",
      " 'l2_leaf_reg': 19,\n",
      " 'learning_rate': 1.0,\n",
      " 'random_strength': 0.005016205748160196,\n",
      " 'scale_pos_weight': 0.6343004871558543}\n",
      "\n"
     ]
    }
   ],
   "source": [
    "opt = BayesSearchCV(clf,\n",
    "                    search_spaces,\n",
    "                    scoring=avg_prec,\n",
    "                    cv=skf,\n",
    "                    n_iter=40,\n",
    "                    n_jobs=1,  # use just 1 job with CatBoost in order to avoid segmentation fault\n",
    "                    return_train_score=False,\n",
    "                    refit=True,\n",
    "                    optimizer_kwargs={'base_estimator': 'GP'},\n",
    "                    random_state=22)\n",
    "\n",
    "best_params = report_perf(opt, X, y_bin,'CatBoost', \n",
    "                          callbacks=[DeltaXStopper(0.001), \n",
    "                                     DeadlineStopper(60*5)])"
   ]
  },
  {
   "cell_type": "markdown",
   "metadata": {
    "colab_type": "text",
    "id": "ZIZJvHCGRvyF"
   },
   "source": [
    "# Practical Example: Neural Architecture Search (NAS)"
   ]
  },
  {
   "cell_type": "code",
   "execution_count": 1,
   "metadata": {
    "colab": {
     "base_uri": "https://localhost:8080/",
     "height": 102
    },
    "colab_type": "code",
    "id": "ybA-BNfRRvyF",
    "outputId": "386116ba-131a-4e52-f8ad-abc14fec26ff"
   },
   "outputs": [
    {
     "name": "stdout",
     "output_type": "stream",
     "text": [
      "TensorFlow version: 1.13.1\n",
      "_DeviceAttributes(/job:localhost/replica:0/task:0/device:CPU:0, CPU, 268435456, 13672192623543012388)\n",
      "_DeviceAttributes(/job:localhost/replica:0/task:0/device:XLA_CPU:0, XLA_CPU, 17179869184, 6389059333328053870)\n",
      "_DeviceAttributes(/job:localhost/replica:0/task:0/device:XLA_GPU:0, XLA_GPU, 17179869184, 1154598800763684967)\n",
      "_DeviceAttributes(/job:localhost/replica:0/task:0/device:GPU:0, GPU, 14800692839, 16655201108311178928)\n"
     ]
    }
   ],
   "source": [
    "import tensorflow as tf\n",
    "print(\"TensorFlow version: %s\" % tf.__version__)\n",
    "with tf.Session() as sess:\n",
    "    devices = sess.list_devices()\n",
    "    for item in devices:\n",
    "        print(item)"
   ]
  },
  {
   "cell_type": "code",
   "execution_count": 2,
   "metadata": {
    "colab": {
     "base_uri": "https://localhost:8080/",
     "height": 241
    },
    "colab_type": "code",
    "id": "L_C16zqNRvyL",
    "outputId": "271939ae-3bf2-4851-aec7-6c4d3a52dad9"
   },
   "outputs": [
    {
     "name": "stdout",
     "output_type": "stream",
     "text": [
      "Collecting git+https://github.com/scikit-optimize/scikit-optimize.git\n",
      "  Cloning https://github.com/scikit-optimize/scikit-optimize.git to /tmp/pip-req-build-uk1sai5s\n",
      "Requirement already satisfied (use --upgrade to upgrade): scikit-optimize==0.5.2+49.g074ce8e from git+https://github.com/scikit-optimize/scikit-optimize.git in /usr/local/lib/python3.6/dist-packages\n",
      "Requirement already satisfied: pyaml in /usr/local/lib/python3.6/dist-packages (from scikit-optimize==0.5.2+49.g074ce8e) (18.11.0)\n",
      "Requirement already satisfied: numpy in /usr/local/lib/python3.6/dist-packages (from scikit-optimize==0.5.2+49.g074ce8e) (1.16.2)\n",
      "Requirement already satisfied: scipy>=0.14.0 in /usr/local/lib/python3.6/dist-packages (from scikit-optimize==0.5.2+49.g074ce8e) (1.2.1)\n",
      "Requirement already satisfied: scikit-learn>=0.19.1 in /usr/local/lib/python3.6/dist-packages (from scikit-optimize==0.5.2+49.g074ce8e) (0.20.3)\n",
      "Requirement already satisfied: PyYAML in /usr/local/lib/python3.6/dist-packages (from pyaml->scikit-optimize==0.5.2+49.g074ce8e) (3.13)\n",
      "Building wheels for collected packages: scikit-optimize\n",
      "  Building wheel for scikit-optimize (setup.py) ... \u001b[?25ldone\n",
      "\u001b[?25h  Stored in directory: /tmp/pip-ephem-wheel-cache-6kj43e0b/wheels/11/6f/86/2b772172db85ad0b4487d67e325e535ee8e7782b2a1dfcadf5\n",
      "Successfully built scikit-optimize\n"
     ]
    }
   ],
   "source": [
    "# Installing the most recent version of skopt directly from Github\n",
    "!pip install git+https://github.com/scikit-optimize/scikit-optimize.git"
   ]
  },
  {
   "cell_type": "code",
   "execution_count": 3,
   "metadata": {
    "colab": {
     "base_uri": "https://localhost:8080/",
     "height": 51
    },
    "colab_type": "code",
    "id": "kF2rpLRkRvyO",
    "outputId": "838e4000-832a-4bb6-d9e5-93c532643447"
   },
   "outputs": [
    {
     "name": "stdout",
     "output_type": "stream",
     "text": [
      "Keras vs: 2.2.4\n"
     ]
    },
    {
     "name": "stderr",
     "output_type": "stream",
     "text": [
      "Using TensorFlow backend.\n"
     ]
    }
   ],
   "source": [
    "import numpy as np\n",
    "import pandas as pd\n",
    "\n",
    "import keras\n",
    "print(\"Keras vs: %s\" % keras.__version__)\n",
    "\n",
    "K = keras.backend\n",
    "layers = keras.layers\n",
    "models = keras.models\n",
    "optimizers = keras.optimizers\n",
    "losses = keras.losses\n",
    "pad_sequences = keras.preprocessing.sequence.pad_sequences\n",
    "\n",
    "from keras.models import Sequential\n",
    "from keras.layers import LeakyReLU\n",
    "from keras.layers import Activation\n",
    "from keras.optimizers import SGD, Adam\n",
    "from keras.layers import Dense, Dropout\n",
    "from keras.layers import Flatten, RepeatVector, dot, multiply, Permute, Lambda\n",
    "from keras.utils import multi_gpu_model\n",
    "from keras.wrappers.scikit_learn import KerasClassifier\n",
    "from keras.callbacks import EarlyStopping, ModelCheckpoint"
   ]
  },
  {
   "cell_type": "code",
   "execution_count": 4,
   "metadata": {
    "colab": {
     "base_uri": "https://localhost:8080/",
     "height": 51
    },
    "colab_type": "code",
    "id": "7nOkqPY5RvyR",
    "outputId": "f6965ade-2d7e-455d-ff96-90df20c161d9"
   },
   "outputs": [
    {
     "name": "stdout",
     "output_type": "stream",
     "text": [
      "Downloading data from https://s3.amazonaws.com/text-datasets/imdb.npz\n",
      "17465344/17464789 [==============================] - 2s 0us/step\n"
     ]
    }
   ],
   "source": [
    "imdb = keras.datasets.imdb\n",
    "(train_data, train_labels), (test_data, test_labels) = imdb.load_data(num_words=10000)"
   ]
  },
  {
   "cell_type": "code",
   "execution_count": 5,
   "metadata": {
    "colab": {
     "base_uri": "https://localhost:8080/",
     "height": 51
    },
    "colab_type": "code",
    "id": "yW4QXgQ5RvyT",
    "outputId": "ccb35059-db4a-43c4-e6c9-0ca1f91544a2"
   },
   "outputs": [
    {
     "name": "stdout",
     "output_type": "stream",
     "text": [
      "Downloading data from https://s3.amazonaws.com/text-datasets/imdb_word_index.json\n",
      "1646592/1641221 [==============================] - 3s 2us/step\n"
     ]
    }
   ],
   "source": [
    "# A dictionary mapping words to an integer index\n",
    "word_index = imdb.get_word_index()"
   ]
  },
  {
   "cell_type": "code",
   "execution_count": 0,
   "metadata": {
    "colab": {},
    "colab_type": "code",
    "id": "9B2aL5SQRvya"
   },
   "outputs": [],
   "source": [
    "# The first indices are reserved\n",
    "word_index = {k:(v+3) for k,v in word_index.items()} \n",
    "word_index[\"<PAD>\"] = 0\n",
    "word_index[\"<START>\"] = 1\n",
    "word_index[\"<UNK>\"] = 2  # unknown\n",
    "word_index[\"<UNUSED>\"] = 3"
   ]
  },
  {
   "cell_type": "code",
   "execution_count": 0,
   "metadata": {
    "colab": {},
    "colab_type": "code",
    "id": "vDzVpPDRRvye"
   },
   "outputs": [],
   "source": [
    "reverse_word_index = dict([(value, key) for (key, value) in word_index.items()])"
   ]
  },
  {
   "cell_type": "code",
   "execution_count": 0,
   "metadata": {
    "colab": {},
    "colab_type": "code",
    "id": "BfNhSVNRRvyg"
   },
   "outputs": [],
   "source": [
    "def decode_review(text):\n",
    "    return ' '.join([reverse_word_index.get(i, '?') for i in text])"
   ]
  },
  {
   "cell_type": "code",
   "execution_count": 0,
   "metadata": {
    "colab": {},
    "colab_type": "code",
    "id": "Ei-qD5NTRvyj"
   },
   "outputs": [],
   "source": [
    "pad_length = 256\n",
    "\n",
    "train_data = keras.preprocessing.sequence.pad_sequences(train_data,\n",
    "                                                           value=word_index[\"<PAD>\"],\n",
    "                                                           padding='post',\n",
    "                                                           maxlen=pad_length)\n",
    "\n",
    "test_data = keras.preprocessing.sequence.pad_sequences(test_data,\n",
    "                                                          value=word_index[\"<PAD>\"],\n",
    "                                                          padding='post',\n",
    "                                                          maxlen=pad_length)"
   ]
  },
  {
   "cell_type": "code",
   "execution_count": 0,
   "metadata": {
    "colab": {},
    "colab_type": "code",
    "id": "9Gb6x96rRvyn"
   },
   "outputs": [],
   "source": [
    "def attention(layer):\n",
    "    # --- Attention is all you need --- #\n",
    "    _,_,units = layer.shape.as_list()\n",
    "    attention = Dense(1, activation='tanh')(layer)\n",
    "    attention = Flatten()(attention)\n",
    "    attention = Activation('softmax')(attention)\n",
    "    attention = RepeatVector(units)(attention)\n",
    "    attention = Permute([2, 1])(attention)\n",
    "    representation = multiply([layer, attention])\n",
    "    representation = Lambda(lambda x: K.sum(x, axis=-2), \n",
    "                            output_shape=(units,))(representation)\n",
    "    # ---------------------------------- #\n",
    "    return representation\n",
    "\n",
    "def create_model(vocab_size = 10000, embedding_size = 256, multigpu = False):\n",
    "\n",
    "    inputs = layers.Input(name='inputs',shape=[pad_length])\n",
    "    layer  = layers.Embedding(vocab_size, embedding_size, input_length=pad_length)(inputs)\n",
    "    layer  = layers.SpatialDropout1D(0.3)(layer)\n",
    "    layer  = layers.Bidirectional(layers.CuDNNGRU(128, return_sequences=True))(layer)\n",
    "\n",
    "    sent_representation_1 = attention(layer)\n",
    "\n",
    "    conv = layers.Conv1D(filters=128, kernel_size=4, \n",
    "                         padding='valid', kernel_initializer='he_uniform')(layer)\n",
    "    avg_pool_conv = layers.GlobalAveragePooling1D()(conv)\n",
    "    max_pool_conv = layers.GlobalMaxPooling1D()(conv)\n",
    "\n",
    "    layer  = layers.Bidirectional(layers.CuDNNGRU(64, return_sequences=True))(layer)\n",
    "\n",
    "    sent_representation_2 = attention(layer)\n",
    "\n",
    "    layer = layers.concatenate([sent_representation_1, sent_representation_2,\n",
    "                                avg_pool_conv, max_pool_conv])\n",
    "\n",
    "    layer = layers.Dropout(0.3)(layer)\n",
    "    layer = layers.Dense(32, name='FC1')(layer)\n",
    "    layer  = layers.LeakyReLU()(layer)\n",
    "    layer = layers.Dropout(0.3)(layer)\n",
    "    layer  = layers.Dense(1, name='out_layer')(layer)\n",
    "    outputs  = layers.Activation('sigmoid')(layer)\n",
    "\n",
    "    model  = models.Model(inputs=inputs, outputs=outputs)\n",
    "    model.summary()\n",
    "    \n",
    "    if multigpu:\n",
    "        model = multi_gpu_model(model, gpus=2)\n",
    "\n",
    "    model.compile(optimizer=Adam(),\n",
    "                  loss='binary_crossentropy',\n",
    "                  metrics=['acc'])\n",
    "    \n",
    "    return model"
   ]
  },
  {
   "cell_type": "code",
   "execution_count": 0,
   "metadata": {
    "colab": {},
    "colab_type": "code",
    "id": "v5EH_nC-Rvys"
   },
   "outputs": [],
   "source": [
    "early_stopping = EarlyStopping(monitor='val_loss', \n",
    "                               mode = 'min', \n",
    "                               patience=3, \n",
    "                               verbose=1)\n",
    "\n",
    "model_checkpoint = ModelCheckpoint('imdb.model', \n",
    "                                   monitor='val_acc', \n",
    "                                   mode = 'max', \n",
    "                                   save_best_only=True, \n",
    "                                   verbose=1)"
   ]
  },
  {
   "cell_type": "code",
   "execution_count": 12,
   "metadata": {
    "colab": {
     "base_uri": "https://localhost:8080/",
     "height": 1329
    },
    "colab_type": "code",
    "id": "jGrKfKwxRvyv",
    "outputId": "852a2cae-e310-4c23-f69b-c897ee535933"
   },
   "outputs": [
    {
     "name": "stdout",
     "output_type": "stream",
     "text": [
      "WARNING:tensorflow:From /usr/local/lib/python3.6/dist-packages/tensorflow/python/framework/op_def_library.py:263: colocate_with (from tensorflow.python.framework.ops) is deprecated and will be removed in a future version.\n",
      "Instructions for updating:\n",
      "Colocations handled automatically by placer.\n",
      "WARNING:tensorflow:From /usr/local/lib/python3.6/dist-packages/keras/backend/tensorflow_backend.py:3445: calling dropout (from tensorflow.python.ops.nn_ops) with keep_prob is deprecated and will be removed in a future version.\n",
      "Instructions for updating:\n",
      "Please use `rate` instead of `keep_prob`. Rate should be set to `rate = 1 - keep_prob`.\n",
      "__________________________________________________________________________________________________\n",
      "Layer (type)                    Output Shape         Param #     Connected to                     \n",
      "==================================================================================================\n",
      "inputs (InputLayer)             (None, 256)          0                                            \n",
      "__________________________________________________________________________________________________\n",
      "embedding_1 (Embedding)         (None, 256, 256)     2560000     inputs[0][0]                     \n",
      "__________________________________________________________________________________________________\n",
      "spatial_dropout1d_1 (SpatialDro (None, 256, 256)     0           embedding_1[0][0]                \n",
      "__________________________________________________________________________________________________\n",
      "bidirectional_1 (Bidirectional) (None, 256, 256)     296448      spatial_dropout1d_1[0][0]        \n",
      "__________________________________________________________________________________________________\n",
      "bidirectional_2 (Bidirectional) (None, 256, 128)     123648      bidirectional_1[0][0]            \n",
      "__________________________________________________________________________________________________\n",
      "dense_1 (Dense)                 (None, 256, 1)       257         bidirectional_1[0][0]            \n",
      "__________________________________________________________________________________________________\n",
      "dense_2 (Dense)                 (None, 256, 1)       129         bidirectional_2[0][0]            \n",
      "__________________________________________________________________________________________________\n",
      "flatten_1 (Flatten)             (None, 256)          0           dense_1[0][0]                    \n",
      "__________________________________________________________________________________________________\n",
      "flatten_2 (Flatten)             (None, 256)          0           dense_2[0][0]                    \n",
      "__________________________________________________________________________________________________\n",
      "activation_1 (Activation)       (None, 256)          0           flatten_1[0][0]                  \n",
      "__________________________________________________________________________________________________\n",
      "activation_2 (Activation)       (None, 256)          0           flatten_2[0][0]                  \n",
      "__________________________________________________________________________________________________\n",
      "repeat_vector_1 (RepeatVector)  (None, 256, 256)     0           activation_1[0][0]               \n",
      "__________________________________________________________________________________________________\n",
      "repeat_vector_2 (RepeatVector)  (None, 128, 256)     0           activation_2[0][0]               \n",
      "__________________________________________________________________________________________________\n",
      "permute_1 (Permute)             (None, 256, 256)     0           repeat_vector_1[0][0]            \n",
      "__________________________________________________________________________________________________\n",
      "permute_2 (Permute)             (None, 256, 128)     0           repeat_vector_2[0][0]            \n",
      "__________________________________________________________________________________________________\n",
      "multiply_1 (Multiply)           (None, 256, 256)     0           bidirectional_1[0][0]            \n",
      "                                                                 permute_1[0][0]                  \n",
      "__________________________________________________________________________________________________\n",
      "multiply_2 (Multiply)           (None, 256, 128)     0           bidirectional_2[0][0]            \n",
      "                                                                 permute_2[0][0]                  \n",
      "__________________________________________________________________________________________________\n",
      "conv1d_1 (Conv1D)               (None, 253, 128)     131200      bidirectional_1[0][0]            \n",
      "__________________________________________________________________________________________________\n",
      "lambda_1 (Lambda)               (None, 256)          0           multiply_1[0][0]                 \n",
      "__________________________________________________________________________________________________\n",
      "lambda_2 (Lambda)               (None, 128)          0           multiply_2[0][0]                 \n",
      "__________________________________________________________________________________________________\n",
      "global_average_pooling1d_1 (Glo (None, 128)          0           conv1d_1[0][0]                   \n",
      "__________________________________________________________________________________________________\n",
      "global_max_pooling1d_1 (GlobalM (None, 128)          0           conv1d_1[0][0]                   \n",
      "__________________________________________________________________________________________________\n",
      "concatenate_1 (Concatenate)     (None, 640)          0           lambda_1[0][0]                   \n",
      "                                                                 lambda_2[0][0]                   \n",
      "                                                                 global_average_pooling1d_1[0][0] \n",
      "                                                                 global_max_pooling1d_1[0][0]     \n",
      "__________________________________________________________________________________________________\n",
      "dropout_1 (Dropout)             (None, 640)          0           concatenate_1[0][0]              \n",
      "__________________________________________________________________________________________________\n",
      "FC1 (Dense)                     (None, 32)           20512       dropout_1[0][0]                  \n",
      "__________________________________________________________________________________________________\n",
      "leaky_re_lu_1 (LeakyReLU)       (None, 32)           0           FC1[0][0]                        \n",
      "__________________________________________________________________________________________________\n",
      "dropout_2 (Dropout)             (None, 32)           0           leaky_re_lu_1[0][0]              \n",
      "__________________________________________________________________________________________________\n",
      "out_layer (Dense)               (None, 1)            33          dropout_2[0][0]                  \n",
      "__________________________________________________________________________________________________\n",
      "activation_3 (Activation)       (None, 1)            0           out_layer[0][0]                  \n",
      "==================================================================================================\n",
      "Total params: 3,132,227\n",
      "Trainable params: 3,132,227\n",
      "Non-trainable params: 0\n",
      "__________________________________________________________________________________________________\n"
     ]
    }
   ],
   "source": [
    "model = create_model()"
   ]
  },
  {
   "cell_type": "code",
   "execution_count": 13,
   "metadata": {
    "colab": {
     "base_uri": "https://localhost:8080/",
     "height": 513
    },
    "colab_type": "code",
    "id": "1GFMoGO6Rvyy",
    "outputId": "fe1bdfa1-d1cb-4e5a-e099-ae950f5568bc"
   },
   "outputs": [
    {
     "name": "stdout",
     "output_type": "stream",
     "text": [
      "WARNING:tensorflow:From /usr/local/lib/python3.6/dist-packages/tensorflow/python/ops/math_ops.py:3066: to_int32 (from tensorflow.python.ops.math_ops) is deprecated and will be removed in a future version.\n",
      "Instructions for updating:\n",
      "Use tf.cast instead.\n",
      "WARNING:tensorflow:From /usr/local/lib/python3.6/dist-packages/tensorflow/python/ops/math_grad.py:102: div (from tensorflow.python.ops.math_ops) is deprecated and will be removed in a future version.\n",
      "Instructions for updating:\n",
      "Deprecated in favor of operator or tf.math.divide.\n",
      "Train on 15000 samples, validate on 10000 samples\n",
      "Epoch 1/30\n",
      "15000/15000 [==============================] - 15s 980us/step - loss: 0.6648 - acc: 0.5785 - val_loss: 0.4914 - val_acc: 0.7609\n",
      "\n",
      "Epoch 00001: val_acc improved from -inf to 0.76090, saving model to imdb.model\n",
      "Epoch 2/30\n",
      "15000/15000 [==============================] - 10s 644us/step - loss: 0.3711 - acc: 0.8391 - val_loss: 0.2959 - val_acc: 0.8729\n",
      "\n",
      "Epoch 00002: val_acc improved from 0.76090 to 0.87290, saving model to imdb.model\n",
      "Epoch 3/30\n",
      "15000/15000 [==============================] - 10s 654us/step - loss: 0.2072 - acc: 0.9209 - val_loss: 0.3002 - val_acc: 0.8789\n",
      "\n",
      "Epoch 00003: val_acc improved from 0.87290 to 0.87890, saving model to imdb.model\n",
      "Epoch 4/30\n",
      "15000/15000 [==============================] - 10s 663us/step - loss: 0.1351 - acc: 0.9525 - val_loss: 0.4293 - val_acc: 0.8501\n",
      "\n",
      "Epoch 00004: val_acc did not improve from 0.87890\n",
      "Epoch 5/30\n",
      "15000/15000 [==============================] - 10s 676us/step - loss: 0.1052 - acc: 0.9621 - val_loss: 0.4235 - val_acc: 0.8722\n",
      "\n",
      "Epoch 00005: val_acc did not improve from 0.87890\n",
      "Epoch 00005: early stopping\n"
     ]
    }
   ],
   "source": [
    "x_val = train_data[:10000]\n",
    "partial_x_train = train_data[10000:]\n",
    "\n",
    "y_val = train_labels[:10000]\n",
    "partial_y_train = train_labels[10000:]\n",
    "\n",
    "history = model.fit(partial_x_train,\n",
    "                    partial_y_train,\n",
    "                    epochs=30,\n",
    "                    batch_size=512,\n",
    "                    validation_data=(x_val, y_val),\n",
    "                    callbacks=[early_stopping, model_checkpoint],\n",
    "                    shuffle=True,\n",
    "                    verbose=1)"
   ]
  },
  {
   "cell_type": "code",
   "execution_count": 14,
   "metadata": {
    "colab": {
     "base_uri": "https://localhost:8080/",
     "height": 51
    },
    "colab_type": "code",
    "id": "Vt7PhfNSRvy0",
    "outputId": "d7d93306-29d4-450a-d70f-60e0561cc48d"
   },
   "outputs": [
    {
     "name": "stdout",
     "output_type": "stream",
     "text": [
      "25000/25000 [==============================] - 18s 731us/step\n",
      "Loss 0.313 | Accuracy 0.871\n"
     ]
    }
   ],
   "source": [
    "model =keras.models.load_model('imdb.model', custom_objects={})\n",
    "results = model.evaluate(test_data, test_labels)\n",
    "print(\"Loss %0.3f | Accuracy %0.3f\" % tuple(results))\n",
    "\n",
    "history_dict = history.history"
   ]
  },
  {
   "cell_type": "code",
   "execution_count": 15,
   "metadata": {
    "colab": {
     "base_uri": "https://localhost:8080/",
     "height": 573
    },
    "colab_type": "code",
    "id": "iAUk2xRoRvy4",
    "outputId": "1d96c732-8619-48a5-af07-188d323c5fd0"
   },
   "outputs": [
    {
     "data": {
      "image/png": "[encoded data removed]",
      "text/plain": [
       "<Figure size 432x288 with 1 Axes>"
      ]
     },
     "metadata": {
      "tags": []
     },
     "output_type": "display_data"
    },
    {
     "data": {
      "image/png": "[encoded data removed]",
      "text/plain": [
       "<Figure size 432x288 with 1 Axes>"
      ]
     },
     "metadata": {
      "tags": []
     },
     "output_type": "display_data"
    }
   ],
   "source": [
    "import matplotlib.pyplot as plt\n",
    "%matplotlib inline\n",
    "\n",
    "acc = history_dict['acc']\n",
    "val_acc = history_dict['val_acc']\n",
    "loss = history_dict['loss']\n",
    "val_loss = history_dict['val_loss']\n",
    "\n",
    "epochs = range(1, len(acc) + 1)\n",
    "\n",
    "# \"bo\" is for \"blue dot\"\n",
    "plt.plot(epochs, loss, 'r', label='Training loss')\n",
    "# b is for \"solid blue line\"\n",
    "plt.plot(epochs, val_loss, 'b', label='Validation loss')\n",
    "plt.title('Training and validation loss')\n",
    "plt.xlabel('Epochs')\n",
    "plt.ylabel('Loss')\n",
    "plt.legend()\n",
    "\n",
    "plt.show()\n",
    "\n",
    "plt.clf()   # clear figure\n",
    "\n",
    "plt.plot(epochs, acc, 'r', label='Training acc')\n",
    "plt.plot(epochs, val_acc, 'b', label='Validation acc')\n",
    "plt.title('Training and validation accuracy')\n",
    "plt.xlabel('Epochs')\n",
    "plt.ylabel('Accuracy')\n",
    "plt.legend()\n",
    "\n",
    "plt.show()"
   ]
  },
  {
   "cell_type": "code",
   "execution_count": 0,
   "metadata": {
    "colab": {},
    "colab_type": "code",
    "id": "2ZIwH5OYRvy7"
   },
   "outputs": [],
   "source": [
    "# Hyperparameters distributions\n",
    "from scipy.stats import randint\n",
    "from scipy.stats import uniform\n",
    "\n",
    "# Model selection\n",
    "from sklearn.model_selection import StratifiedKFold\n",
    "from sklearn.model_selection import GridSearchCV, RandomizedSearchCV\n",
    "from sklearn.model_selection import cross_val_score"
   ]
  },
  {
   "cell_type": "code",
   "execution_count": 0,
   "metadata": {
    "colab": {},
    "colab_type": "code",
    "id": "3wVcx9wxRvy9"
   },
   "outputs": [],
   "source": [
    "def create_model(multigpu=False,\n",
    "                 vocab_size = 10000, \n",
    "                 embedding_size = 256, \n",
    "                 dropout_lvl= .3,\n",
    "                 spatial_dropout=True,\n",
    "                 gru_units=128,\n",
    "                 conv_filters=128,\n",
    "                 conv_kernel=4,\n",
    "                 fc_layers=1,\n",
    "                 fc_dense=32):\n",
    "\n",
    "    inputs = layers.Input(name='inputs',shape=[pad_length])\n",
    "    layer  = layers.Embedding(vocab_size, embedding_size, input_length=pad_length)(inputs)\n",
    "    \n",
    "    if spatial_dropout:\n",
    "        layer  = layers.SpatialDropout1D(dropout_lvl)(layer)\n",
    "        \n",
    "    layer  = layers.Bidirectional(layers.CuDNNGRU(int(gru_units), return_sequences=True))(layer)\n",
    "    \n",
    "    sent_representation_1 = attention(layer)\n",
    "    \n",
    "    conv_kernel_tuple = [conv_kernel]\n",
    "    conv = layers.Conv1D(filters=conv_filters, kernel_size=conv_kernel_tuple, \n",
    "                         padding='valid', kernel_initializer='he_uniform')(layer)\n",
    "    \n",
    "    avg_pool_conv = layers.GlobalAveragePooling1D()(conv)\n",
    "    max_pool_conv = layers.GlobalMaxPooling1D()(conv)\n",
    "\n",
    "    layer  = layers.Bidirectional(layers.CuDNNGRU(int(gru_units), return_sequences=True))(layer)\n",
    "    \n",
    "    sent_representation_2 = attention(layer)  \n",
    "\n",
    "    layer = layers.concatenate([sent_representation_1, sent_representation_2,\n",
    "                                avg_pool_conv, max_pool_conv])\n",
    "\n",
    "    layer = layers.Dropout(dropout_lvl)(layer)\n",
    "    \n",
    "    for l in range(fc_layers):\n",
    "        layer = layers.Dense(fc_dense//(l+1), name='FC'+str(l+1))(layer)\n",
    "        \n",
    "    layer  = layers.LeakyReLU()(layer)\n",
    "    layer = layers.Dropout(dropout_lvl)(layer)\n",
    "    layer  = layers.Dense(1, name='out_layer')(layer)\n",
    "    outputs  = layers.Activation('sigmoid')(layer)\n",
    "\n",
    "    model  = models.Model(inputs=inputs, outputs=outputs)\n",
    "    \n",
    "    if multigpu:\n",
    "        model = multi_gpu_model(model, gpus=2)\n",
    "\n",
    "    model.compile(optimizer=Adam(),\n",
    "                  loss='binary_crossentropy',\n",
    "                  metrics=['acc'])\n",
    "    \n",
    "    return model"
   ]
  },
  {
   "cell_type": "code",
   "execution_count": 0,
   "metadata": {
    "colab": {},
    "colab_type": "code",
    "id": "YAUEN96LRvzA"
   },
   "outputs": [],
   "source": [
    "clf = KerasClassifier(build_fn=create_model, \n",
    "                      epochs=15, \n",
    "                      batch_size=512,\n",
    "                      multigpu=False,\n",
    "                      vocab_size = len(np.unique(train_data)),\n",
    "                      verbose=0)\n",
    "\n",
    "skf = StratifiedKFold(n_splits=3, shuffle=True, random_state=0)\n",
    "\n",
    "random_search = RandomizedSearchCV(clf, \n",
    "                                   param_distributions={\"epochs\": randint(1, 3),\n",
    "                                                        \"batch_size\": randint(64, 512),\n",
    "                                                        \"embedding_size\": randint(16, 512),\n",
    "                                                        \"dropout_lvl\": uniform(0, 0.5),\n",
    "                                                        \"spatial_dropout\" : randint(0, 1),\n",
    "                                                        \"gru_units\": randint(32, 256),\n",
    "                                                        \"conv_filters\": randint(32, 256),\n",
    "                                                        \"conv_kernel\": randint(1, 8),\n",
    "                                                        \"fc_layers\": randint(1, 3),\n",
    "                                                        \"fc_dense\" : randint(4, 128)\n",
    "                                       },\n",
    "                                   n_iter=10,\n",
    "                                   n_jobs=1,\n",
    "                                   cv=skf,\n",
    "                                   scoring='accuracy',\n",
    "                                   iid=False, # just return the average score across folds\n",
    "                                   return_train_score=False,\n",
    "                                   verbose=2,\n",
    "                                   random_state=0)"
   ]
  },
  {
   "cell_type": "code",
   "execution_count": 19,
   "metadata": {
    "colab": {
     "base_uri": "https://localhost:8080/",
     "height": 1244
    },
    "colab_type": "code",
    "id": "QJltym6XRvzC",
    "outputId": "ad2aca51-c1b8-4f49-8fcc-ccb83f4846d7"
   },
   "outputs": [
    {
     "name": "stdout",
     "output_type": "stream",
     "text": [
      "Fitting 3 folds for each of 10 candidates, totalling 30 fits\n",
      "[CV] batch_size=236, conv_filters=79, conv_kernel=6, dropout_lvl=0.42213287429050866, embedding_size=267, epochs=2, fc_dense=107, fc_layers=2, gru_units=243, spatial_dropout=0 \n"
     ]
    },
    {
     "name": "stderr",
     "output_type": "stream",
     "text": [
      "[Parallel(n_jobs=1)]: Using backend SequentialBackend with 1 concurrent workers.\n"
     ]
    },
    {
     "name": "stdout",
     "output_type": "stream",
     "text": [
      "[CV]  batch_size=236, conv_filters=79, conv_kernel=6, dropout_lvl=0.42213287429050866, embedding_size=267, epochs=2, fc_dense=107, fc_layers=2, gru_units=243, spatial_dropout=0, total= 1.2min\n",
      "[CV] batch_size=236, conv_filters=79, conv_kernel=6, dropout_lvl=0.42213287429050866, embedding_size=267, epochs=2, fc_dense=107, fc_layers=2, gru_units=243, spatial_dropout=0 \n"
     ]
    },
    {
     "name": "stderr",
     "output_type": "stream",
     "text": [
      "[Parallel(n_jobs=1)]: Done   1 out of   1 | elapsed:  1.2min remaining:    0.0s\n"
     ]
    },
    {
     "name": "stdout",
     "output_type": "stream",
     "text": [
      "[CV]  batch_size=236, conv_filters=79, conv_kernel=6, dropout_lvl=0.42213287429050866, embedding_size=267, epochs=2, fc_dense=107, fc_layers=2, gru_units=243, spatial_dropout=0, total= 1.2min\n",
      "[CV] batch_size=236, conv_filters=79, conv_kernel=6, dropout_lvl=0.42213287429050866, embedding_size=267, epochs=2, fc_dense=107, fc_layers=2, gru_units=243, spatial_dropout=0 \n",
      "[CV]  batch_size=236, conv_filters=79, conv_kernel=6, dropout_lvl=0.42213287429050866, embedding_size=267, epochs=2, fc_dense=107, fc_layers=2, gru_units=243, spatial_dropout=0, total= 1.2min\n",
      "[CV] batch_size=341, conv_filters=68, conv_kernel=7, dropout_lvl=0.02835648865872159, embedding_size=412, epochs=1, fc_dense=69, fc_layers=1, gru_units=71, spatial_dropout=0 \n",
      "[CV]  batch_size=341, conv_filters=68, conv_kernel=7, dropout_lvl=0.02835648865872159, embedding_size=412, epochs=1, fc_dense=69, fc_layers=1, gru_units=71, spatial_dropout=0, total=  16.7s\n",
      "[CV] batch_size=341, conv_filters=68, conv_kernel=7, dropout_lvl=0.02835648865872159, embedding_size=412, epochs=1, fc_dense=69, fc_layers=1, gru_units=71, spatial_dropout=0 \n",
      "[CV]  batch_size=341, conv_filters=68, conv_kernel=7, dropout_lvl=0.02835648865872159, embedding_size=412, epochs=1, fc_dense=69, fc_layers=1, gru_units=71, spatial_dropout=0, total=  17.3s\n",
      "[CV] batch_size=341, conv_filters=68, conv_kernel=7, dropout_lvl=0.02835648865872159, embedding_size=412, epochs=1, fc_dense=69, fc_layers=1, gru_units=71, spatial_dropout=0 \n",
      "[CV]  batch_size=341, conv_filters=68, conv_kernel=7, dropout_lvl=0.02835648865872159, embedding_size=412, epochs=1, fc_dense=69, fc_layers=1, gru_units=71, spatial_dropout=0, total=  17.7s\n",
      "[CV] batch_size=151, conv_filters=206, conv_kernel=1, dropout_lvl=0.19639239805041486, embedding_size=41, epochs=2, fc_dense=76, fc_layers=2, gru_units=180, spatial_dropout=0 \n",
      "[CV]  batch_size=151, conv_filters=206, conv_kernel=1, dropout_lvl=0.19639239805041486, embedding_size=41, epochs=2, fc_dense=76, fc_layers=2, gru_units=180, spatial_dropout=0, total=  48.8s\n",
      "[CV] batch_size=151, conv_filters=206, conv_kernel=1, dropout_lvl=0.19639239805041486, embedding_size=41, epochs=2, fc_dense=76, fc_layers=2, gru_units=180, spatial_dropout=0 \n",
      "[CV]  batch_size=151, conv_filters=206, conv_kernel=1, dropout_lvl=0.19639239805041486, embedding_size=41, epochs=2, fc_dense=76, fc_layers=2, gru_units=180, spatial_dropout=0, total=  48.7s\n",
      "[CV] batch_size=151, conv_filters=206, conv_kernel=1, dropout_lvl=0.19639239805041486, embedding_size=41, epochs=2, fc_dense=76, fc_layers=2, gru_units=180, spatial_dropout=0 \n",
      "[CV]  batch_size=151, conv_filters=206, conv_kernel=1, dropout_lvl=0.19639239805041486, embedding_size=41, epochs=2, fc_dense=76, fc_layers=2, gru_units=180, spatial_dropout=0, total=  49.7s\n",
      "[CV] batch_size=179, conv_filters=240, conv_kernel=4, dropout_lvl=0.4785775794765232, embedding_size=351, epochs=2, fc_dense=68, fc_layers=1, gru_units=131, spatial_dropout=0 \n",
      "[CV]  batch_size=179, conv_filters=240, conv_kernel=4, dropout_lvl=0.4785775794765232, embedding_size=351, epochs=2, fc_dense=68, fc_layers=1, gru_units=131, spatial_dropout=0, total=  47.9s\n",
      "[CV] batch_size=179, conv_filters=240, conv_kernel=4, dropout_lvl=0.4785775794765232, embedding_size=351, epochs=2, fc_dense=68, fc_layers=1, gru_units=131, spatial_dropout=0 \n",
      "[CV]  batch_size=179, conv_filters=240, conv_kernel=4, dropout_lvl=0.4785775794765232, embedding_size=351, epochs=2, fc_dense=68, fc_layers=1, gru_units=131, spatial_dropout=0, total=  48.5s\n",
      "[CV] batch_size=179, conv_filters=240, conv_kernel=4, dropout_lvl=0.4785775794765232, embedding_size=351, epochs=2, fc_dense=68, fc_layers=1, gru_units=131, spatial_dropout=0 \n",
      "[CV]  batch_size=179, conv_filters=240, conv_kernel=4, dropout_lvl=0.4785775794765232, embedding_size=351, epochs=2, fc_dense=68, fc_layers=1, gru_units=131, spatial_dropout=0, total=  49.9s\n",
      "[CV] batch_size=241, conv_filters=61, conv_kernel=4, dropout_lvl=0.33943976505948015, embedding_size=439, epochs=1, fc_dense=69, fc_layers=2, gru_units=217, spatial_dropout=0 \n",
      "[CV]  batch_size=241, conv_filters=61, conv_kernel=4, dropout_lvl=0.33943976505948015, embedding_size=439, epochs=1, fc_dense=69, fc_layers=2, gru_units=217, spatial_dropout=0, total=  44.1s\n",
      "[CV] batch_size=241, conv_filters=61, conv_kernel=4, dropout_lvl=0.33943976505948015, embedding_size=439, epochs=1, fc_dense=69, fc_layers=2, gru_units=217, spatial_dropout=0 \n",
      "[CV]  batch_size=241, conv_filters=61, conv_kernel=4, dropout_lvl=0.33943976505948015, embedding_size=439, epochs=1, fc_dense=69, fc_layers=2, gru_units=217, spatial_dropout=0, total=  44.6s\n",
      "[CV] batch_size=241, conv_filters=61, conv_kernel=4, dropout_lvl=0.33943976505948015, embedding_size=439, epochs=1, fc_dense=69, fc_layers=2, gru_units=217, spatial_dropout=0 \n",
      "[CV]  batch_size=241, conv_filters=61, conv_kernel=4, dropout_lvl=0.33943976505948015, embedding_size=439, epochs=1, fc_dense=69, fc_layers=2, gru_units=217, spatial_dropout=0, total=  46.4s\n",
      "[CV] batch_size=191, conv_filters=64, conv_kernel=3, dropout_lvl=0.2073309699952618, embedding_size=179, epochs=1, fc_dense=79, fc_layers=1, gru_units=215, spatial_dropout=0 \n",
      "[CV]  batch_size=191, conv_filters=64, conv_kernel=3, dropout_lvl=0.2073309699952618, embedding_size=179, epochs=1, fc_dense=79, fc_layers=1, gru_units=215, spatial_dropout=0, total=  40.3s\n",
      "[CV] batch_size=191, conv_filters=64, conv_kernel=3, dropout_lvl=0.2073309699952618, embedding_size=179, epochs=1, fc_dense=79, fc_layers=1, gru_units=215, spatial_dropout=0 \n",
      "[CV]  batch_size=191, conv_filters=64, conv_kernel=3, dropout_lvl=0.2073309699952618, embedding_size=179, epochs=1, fc_dense=79, fc_layers=1, gru_units=215, spatial_dropout=0, total=  41.6s\n",
      "[CV] batch_size=191, conv_filters=64, conv_kernel=3, dropout_lvl=0.2073309699952618, embedding_size=179, epochs=1, fc_dense=79, fc_layers=1, gru_units=215, spatial_dropout=0 \n",
      "[CV]  batch_size=191, conv_filters=64, conv_kernel=3, dropout_lvl=0.2073309699952618, embedding_size=179, epochs=1, fc_dense=79, fc_layers=1, gru_units=215, spatial_dropout=0, total=  41.7s\n",
      "[CV] batch_size=92, conv_filters=66, conv_kernel=1, dropout_lvl=0.009394900218177571, embedding_size=69, epochs=2, fc_dense=42, fc_layers=1, gru_units=49, spatial_dropout=0 \n",
      "[CV]  batch_size=92, conv_filters=66, conv_kernel=1, dropout_lvl=0.009394900218177571, embedding_size=69, epochs=2, fc_dense=42, fc_layers=1, gru_units=49, spatial_dropout=0, total=  39.0s\n",
      "[CV] batch_size=92, conv_filters=66, conv_kernel=1, dropout_lvl=0.009394900218177571, embedding_size=69, epochs=2, fc_dense=42, fc_layers=1, gru_units=49, spatial_dropout=0 \n",
      "[CV]  batch_size=92, conv_filters=66, conv_kernel=1, dropout_lvl=0.009394900218177571, embedding_size=69, epochs=2, fc_dense=42, fc_layers=1, gru_units=49, spatial_dropout=0, total=  39.6s\n",
      "[CV] batch_size=92, conv_filters=66, conv_kernel=1, dropout_lvl=0.009394900218177571, embedding_size=69, epochs=2, fc_dense=42, fc_layers=1, gru_units=49, spatial_dropout=0 \n",
      "[CV]  batch_size=92, conv_filters=66, conv_kernel=1, dropout_lvl=0.009394900218177571, embedding_size=69, epochs=2, fc_dense=42, fc_layers=1, gru_units=49, spatial_dropout=0, total=  40.4s\n",
      "[CV] batch_size=399, conv_filters=164, conv_kernel=2, dropout_lvl=0.2249749949556138, embedding_size=47, epochs=1, fc_dense=5, fc_layers=2, gru_units=201, spatial_dropout=0 \n",
      "[CV]  batch_size=399, conv_filters=164, conv_kernel=2, dropout_lvl=0.2249749949556138, embedding_size=47, epochs=1, fc_dense=5, fc_layers=2, gru_units=201, spatial_dropout=0, total=  41.0s\n",
      "[CV] batch_size=399, conv_filters=164, conv_kernel=2, dropout_lvl=0.2249749949556138, embedding_size=47, epochs=1, fc_dense=5, fc_layers=2, gru_units=201, spatial_dropout=0 \n",
      "[CV]  batch_size=399, conv_filters=164, conv_kernel=2, dropout_lvl=0.2249749949556138, embedding_size=47, epochs=1, fc_dense=5, fc_layers=2, gru_units=201, spatial_dropout=0, total=  41.2s\n",
      "[CV] batch_size=399, conv_filters=164, conv_kernel=2, dropout_lvl=0.2249749949556138, embedding_size=47, epochs=1, fc_dense=5, fc_layers=2, gru_units=201, spatial_dropout=0 \n",
      "[CV]  batch_size=399, conv_filters=164, conv_kernel=2, dropout_lvl=0.2249749949556138, embedding_size=47, epochs=1, fc_dense=5, fc_layers=2, gru_units=201, spatial_dropout=0, total=  42.0s\n",
      "[CV] batch_size=121, conv_filters=67, conv_kernel=7, dropout_lvl=0.3353189348090797, embedding_size=446, epochs=1, fc_dense=95, fc_layers=1, gru_units=174, spatial_dropout=0 \n",
      "[CV]  batch_size=121, conv_filters=67, conv_kernel=7, dropout_lvl=0.3353189348090797, embedding_size=446, epochs=1, fc_dense=95, fc_layers=1, gru_units=174, spatial_dropout=0, total=  49.4s\n",
      "[CV] batch_size=121, conv_filters=67, conv_kernel=7, dropout_lvl=0.3353189348090797, embedding_size=446, epochs=1, fc_dense=95, fc_layers=1, gru_units=174, spatial_dropout=0 \n",
      "[CV]  batch_size=121, conv_filters=67, conv_kernel=7, dropout_lvl=0.3353189348090797, embedding_size=446, epochs=1, fc_dense=95, fc_layers=1, gru_units=174, spatial_dropout=0, total=  48.0s\n",
      "[CV] batch_size=121, conv_filters=67, conv_kernel=7, dropout_lvl=0.3353189348090797, embedding_size=446, epochs=1, fc_dense=95, fc_layers=1, gru_units=174, spatial_dropout=0 \n",
      "[CV]  batch_size=121, conv_filters=67, conv_kernel=7, dropout_lvl=0.3353189348090797, embedding_size=446, epochs=1, fc_dense=95, fc_layers=1, gru_units=174, spatial_dropout=0, total=  48.9s\n",
      "[CV] batch_size=163, conv_filters=85, conv_kernel=5, dropout_lvl=0.2850983852089398, embedding_size=100, epochs=2, fc_dense=72, fc_layers=1, gru_units=228, spatial_dropout=0 \n",
      "[CV]  batch_size=163, conv_filters=85, conv_kernel=5, dropout_lvl=0.2850983852089398, embedding_size=100, epochs=2, fc_dense=72, fc_layers=1, gru_units=228, spatial_dropout=0, total= 1.3min\n",
      "[CV] batch_size=163, conv_filters=85, conv_kernel=5, dropout_lvl=0.2850983852089398, embedding_size=100, epochs=2, fc_dense=72, fc_layers=1, gru_units=228, spatial_dropout=0 \n",
      "[CV]  batch_size=163, conv_filters=85, conv_kernel=5, dropout_lvl=0.2850983852089398, embedding_size=100, epochs=2, fc_dense=72, fc_layers=1, gru_units=228, spatial_dropout=0, total= 1.3min\n",
      "[CV] batch_size=163, conv_filters=85, conv_kernel=5, dropout_lvl=0.2850983852089398, embedding_size=100, epochs=2, fc_dense=72, fc_layers=1, gru_units=228, spatial_dropout=0 \n",
      "[CV]  batch_size=163, conv_filters=85, conv_kernel=5, dropout_lvl=0.2850983852089398, embedding_size=100, epochs=2, fc_dense=72, fc_layers=1, gru_units=228, spatial_dropout=0, total= 1.3min\n"
     ]
    },
    {
     "name": "stderr",
     "output_type": "stream",
     "text": [
      "[Parallel(n_jobs=1)]: Done  30 out of  30 | elapsed: 24.1min finished\n"
     ]
    },
    {
     "data": {
      "text/plain": [
       "RandomizedSearchCV(cv=StratifiedKFold(n_splits=3, random_state=0, shuffle=True),\n",
       "          error_score='raise-deprecating',\n",
       "          estimator=<keras.wrappers.scikit_learn.KerasClassifier object at 0x7f1c90ea14e0>,\n",
       "          fit_params=None, iid=False, n_iter=10, n_jobs=1,\n",
       "          param_distributions={'epochs': <scipy.stats._distn_infrastructure.rv_frozen object at 0x7f1c93181668>, 'batch_size': <scipy.stats._distn_infrastructure.rv_frozen object at 0x7f1c93e83208>, 'embedding_size': <scipy.stats._distn_infrastructure.rv_frozen object at 0x7f1c93e83390>, 'dropout_lvl': <scipy...0x7f1c93e83d68>, 'fc_dense': <scipy.stats._distn_infrastructure.rv_frozen object at 0x7f1c93e83f60>},\n",
       "          pre_dispatch='2*n_jobs', random_state=0, refit=True,\n",
       "          return_train_score=False, scoring='accuracy', verbose=2)"
      ]
     },
     "execution_count": 19,
     "metadata": {
      "tags": []
     },
     "output_type": "execute_result"
    }
   ],
   "source": [
    "random_search.fit(train_data, train_labels)"
   ]
  },
  {
   "cell_type": "code",
   "execution_count": 20,
   "metadata": {
    "colab": {
     "base_uri": "https://localhost:8080/",
     "height": 187
    },
    "colab_type": "code",
    "id": "yJ2bKM7RRvzH",
    "outputId": "2e4a0903-2521-4828-ebe6-ca5d6865aff3"
   },
   "outputs": [
    {
     "data": {
      "text/plain": [
       "{'batch_size': 121,\n",
       " 'conv_filters': 67,\n",
       " 'conv_kernel': 7,\n",
       " 'dropout_lvl': 0.3353189348090797,\n",
       " 'embedding_size': 446,\n",
       " 'epochs': 1,\n",
       " 'fc_dense': 95,\n",
       " 'fc_layers': 1,\n",
       " 'gru_units': 174,\n",
       " 'spatial_dropout': 0}"
      ]
     },
     "execution_count": 20,
     "metadata": {
      "tags": []
     },
     "output_type": "execute_result"
    }
   ],
   "source": [
    "random_search.best_params_"
   ]
  },
  {
   "cell_type": "code",
   "execution_count": 0,
   "metadata": {
    "colab": {},
    "colab_type": "code",
    "id": "UQXcwQkZRvzJ"
   },
   "outputs": [],
   "source": [
    "# Skopt functions\n",
    "from skopt import BayesSearchCV\n",
    "from skopt import gp_minimize # Bayesian optimization using Gaussian Processes\n",
    "from skopt.space import Real, Categorical, Integer\n",
    "from skopt.utils import use_named_args # decorator to convert a list of parameters to named arguments\n",
    "from skopt.callbacks import DeadlineStopper # Stop the optimization before running out of a fixed budget of time.\n",
    "from skopt.callbacks import VerboseCallback # Callback to control the verbosity\n",
    "from skopt.callbacks import DeltaXStopper # Stop the optimization If the last two positions at which the objective has been evaluated are less than delta\n",
    "\n",
    "# Metrics\n",
    "from sklearn.metrics import accuracy_score\n",
    "\n",
    "# Parallelism\n",
    "import joblib"
   ]
  },
  {
   "cell_type": "code",
   "execution_count": 0,
   "metadata": {
    "colab": {},
    "colab_type": "code",
    "id": "LTE-Ty7FRvzM"
   },
   "outputs": [],
   "source": [
    "dimensions = [Integer(1, 3, name=\"epochs\"),\n",
    "              Integer(64, 512, name=\"batch_size\"),\n",
    "              Integer(16, 512, name=\"embedding_size\"),\n",
    "              Real(0, 0.5, name=\"dropout_lvl\"),\n",
    "              Integer(0, 1, name=\"spatial_dropout\"),\n",
    "              Integer(32, 256, name=\"gru_units\"),\n",
    "              Integer(32, 256, name=\"conv_filters\"),\n",
    "              Integer(1, 8, name=\"conv_kernel\"),\n",
    "              Integer(1, 3, name=\"fc_layers\"),\n",
    "              Integer(4, 128, name=\"fc_dense\")\n",
    "             ]"
   ]
  },
  {
   "cell_type": "code",
   "execution_count": 0,
   "metadata": {
    "colab": {},
    "colab_type": "code",
    "id": "0HAt1s83RvzO"
   },
   "outputs": [],
   "source": [
    "params = [\"epochs\", \"batch_size\", \"embedding_size\", \"dropout_lvl\", \"spatial_dropout\", \n",
    "          \"gru_units\", \"conv_filters\", \"conv_kernel\", \"fc_layers\", \"fc_dense\"]\n",
    "x0 = [[ex[p] for p in params] for ex in random_search.cv_results_['params']]\n",
    "y0 = random_search.cv_results_['mean_test_score'] * -1"
   ]
  },
  {
   "cell_type": "code",
   "execution_count": 24,
   "metadata": {
    "colab": {
     "base_uri": "https://localhost:8080/",
     "height": 921
    },
    "colab_type": "code",
    "id": "9CQrL6CqRvzR",
    "outputId": "d1ff7aaa-746b-42ed-b80c-6549b720190f"
   },
   "outputs": [
    {
     "name": "stdout",
     "output_type": "stream",
     "text": [
      "Last eval:  [2, 163, 100, 0.2850983852089398, 0, 228, 85, 5, 1, 72]  - Score  -0.8712778349791547\n",
      "Current iter:  0  - Score  -0.8865601841627034  - Args:  [1, 121, 446, 0.3353189348090797, 0, 174, 67, 7, 1, 95]\n",
      "Testing parameters: {'epochs': 3, 'batch_size': 482, 'embedding_size': 80, 'dropout_lvl': 0.4995202576620725, 'spatial_dropout': 0, 'gru_units': 121, 'conv_filters': 119, 'conv_kernel': 6, 'fc_layers': 3, 'fc_dense': 109}\n",
      "{'multigpu': False, 'vocab_size': 9999, 'verbose': 0, 'embedding_size': 80, 'dropout_lvl': 0.4995202576620725, 'spatial_dropout': 0, 'gru_units': 121, 'conv_filters': 119, 'conv_kernel': 6, 'fc_layers': 3, 'fc_dense': 109}\n",
      "CV scores: [0.8822894168466523, 0.8785697144228461, 0.8869419107057129]\n",
      "Last eval:  [3, 482, 80, 0.4995202576620725, 0, 121, 119, 6, 3, 109]  - Score  -0.8826003473250704\n",
      "Current iter:  1  - Score  -0.8865601841627034  - Args:  [1, 121, 446, 0.3353189348090797, 0, 174, 67, 7, 1, 95]\n",
      "Testing parameters: {'epochs': 2, 'batch_size': 299, 'embedding_size': 236, 'dropout_lvl': 0.1147886068649128, 'spatial_dropout': 1, 'gru_units': 237, 'conv_filters': 134, 'conv_kernel': 4, 'fc_layers': 3, 'fc_dense': 101}\n",
      "{'multigpu': False, 'vocab_size': 9999, 'verbose': 0, 'embedding_size': 236, 'dropout_lvl': 0.1147886068649128, 'spatial_dropout': 1, 'gru_units': 237, 'conv_filters': 134, 'conv_kernel': 4, 'fc_layers': 3, 'fc_dense': 101}\n",
      "CV scores: [0.8878089752819774, 0.8879289656827454, 0.8931829092654825]\n",
      "Last eval:  [2, 299, 236, 0.1147886068649128, 1, 237, 134, 4, 3, 101]  - Score  -0.8896402834100684\n",
      "Current iter:  2  - Score  -0.8896402834100684  - Args:  [2, 299, 236, 0.1147886068649128, 1, 237, 134, 4, 3, 101]\n",
      "Testing parameters: {'epochs': 2, 'batch_size': 424, 'embedding_size': 62, 'dropout_lvl': 0.25907627447094456, 'spatial_dropout': 1, 'gru_units': 218, 'conv_filters': 218, 'conv_kernel': 3, 'fc_layers': 1, 'fc_dense': 87}\n",
      "{'multigpu': False, 'vocab_size': 9999, 'verbose': 0, 'embedding_size': 62, 'dropout_lvl': 0.25907627447094456, 'spatial_dropout': 1, 'gru_units': 218, 'conv_filters': 218, 'conv_kernel': 3, 'fc_layers': 1, 'fc_dense': 87}\n",
      "CV scores: [0.8666906647468202, 0.8720902327813775, 0.8608977436389822]\n",
      "Last eval:  [2, 424, 62, 0.25907627447094456, 1, 218, 218, 3, 1, 87]  - Score  -0.8665595470557266\n",
      "Current iter:  3  - Score  -0.8896402834100684  - Args:  [2, 299, 236, 0.1147886068649128, 1, 237, 134, 4, 3, 101]\n",
      "Testing parameters: {'epochs': 2, 'batch_size': 365, 'embedding_size': 220, 'dropout_lvl': 0.09877544899239063, 'spatial_dropout': 0, 'gru_units': 64, 'conv_filters': 207, 'conv_kernel': 4, 'fc_layers': 1, 'fc_dense': 81}\n",
      "{'multigpu': False, 'vocab_size': 9999, 'verbose': 0, 'embedding_size': 220, 'dropout_lvl': 0.09877544899239063, 'spatial_dropout': 0, 'gru_units': 64, 'conv_filters': 207, 'conv_kernel': 4, 'fc_layers': 1, 'fc_dense': 81}\n",
      "CV scores: [0.880729541636669, 0.880729541636669, 0.8853816610657705]\n",
      "Last eval:  [2, 365, 220, 0.09877544899239063, 0, 64, 207, 4, 1, 81]  - Score  -0.8822802481130362\n",
      "Current iter:  4  - Score  -0.8896402834100684  - Args:  [2, 299, 236, 0.1147886068649128, 1, 237, 134, 4, 3, 101]\n",
      "Testing parameters: {'epochs': 2, 'batch_size': 198, 'embedding_size': 237, 'dropout_lvl': 0.11106227376768743, 'spatial_dropout': 0, 'gru_units': 137, 'conv_filters': 54, 'conv_kernel': 7, 'fc_layers': 1, 'fc_dense': 69}\n",
      "{'multigpu': False, 'vocab_size': 9999, 'verbose': 0, 'embedding_size': 237, 'dropout_lvl': 0.11106227376768743, 'spatial_dropout': 0, 'gru_units': 137, 'conv_filters': 54, 'conv_kernel': 7, 'fc_layers': 1, 'fc_dense': 69}\n",
      "CV scores: [0.8782097432205423, 0.8794096472282218, 0.8840614498319731]\n",
      "Last eval:  [2, 198, 237, 0.11106227376768743, 0, 137, 54, 7, 1, 69]  - Score  -0.880560280093579\n",
      "Current iter:  5  - Score  -0.8896402834100684  - Args:  [2, 299, 236, 0.1147886068649128, 1, 237, 134, 4, 3, 101]\n",
      "Testing parameters: {'epochs': 1, 'batch_size': 475, 'embedding_size': 468, 'dropout_lvl': 0.14946505610485808, 'spatial_dropout': 1, 'gru_units': 159, 'conv_filters': 170, 'conv_kernel': 8, 'fc_layers': 2, 'fc_dense': 33}\n",
      "{'multigpu': False, 'vocab_size': 9999, 'verbose': 0, 'embedding_size': 468, 'dropout_lvl': 0.14946505610485808, 'spatial_dropout': 1, 'gru_units': 159, 'conv_filters': 170, 'conv_kernel': 8, 'fc_layers': 2, 'fc_dense': 33}\n",
      "CV scores: [0.837892968562515, 0.8404127669786418, 0.8256120979356697]\n",
      "Last eval:  [1, 475, 468, 0.14946505610485808, 1, 159, 170, 8, 2, 33]  - Score  -0.8346392778256089\n",
      "Current iter:  6  - Score  -0.8896402834100684  - Args:  [2, 299, 236, 0.1147886068649128, 1, 237, 134, 4, 3, 101]\n",
      "Testing parameters: {'epochs': 2, 'batch_size': 490, 'embedding_size': 261, 'dropout_lvl': 0.27030025441182204, 'spatial_dropout': 1, 'gru_units': 42, 'conv_filters': 63, 'conv_kernel': 7, 'fc_layers': 1, 'fc_dense': 114}\n",
      "{'multigpu': False, 'vocab_size': 9999, 'verbose': 0, 'embedding_size': 261, 'dropout_lvl': 0.27030025441182204, 'spatial_dropout': 1, 'gru_units': 42, 'conv_filters': 63, 'conv_kernel': 7, 'fc_layers': 1, 'fc_dense': 114}\n",
      "CV scores: [0.8729301655867531, 0.841732661387089, 0.8444551128180509]\n",
      "Last eval:  [2, 490, 261, 0.27030025441182204, 1, 42, 63, 7, 1, 114]  - Score  -0.8530393132639643\n",
      "Current iter:  7  - Score  -0.8896402834100684  - Args:  [2, 299, 236, 0.1147886068649128, 1, 237, 134, 4, 3, 101]\n",
      "Testing parameters: {'epochs': 2, 'batch_size': 265, 'embedding_size': 458, 'dropout_lvl': 0.18879217057554737, 'spatial_dropout': 1, 'gru_units': 178, 'conv_filters': 113, 'conv_kernel': 5, 'fc_layers': 2, 'fc_dense': 20}\n",
      "{'multigpu': False, 'vocab_size': 9999, 'verbose': 0, 'embedding_size': 458, 'dropout_lvl': 0.18879217057554737, 'spatial_dropout': 1, 'gru_units': 178, 'conv_filters': 113, 'conv_kernel': 5, 'fc_layers': 2, 'fc_dense': 20}\n",
      "CV scores: [0.89056875449964, 0.8874490040796736, 0.8952232357177148]\n",
      "Last eval:  [2, 265, 458, 0.18879217057554737, 1, 178, 113, 5, 2, 20]  - Score  -0.8910803314323429\n",
      "Current iter:  8  - Score  -0.8910803314323429  - Args:  [2, 265, 458, 0.18879217057554737, 1, 178, 113, 5, 2, 20]\n",
      "Testing parameters: {'epochs': 2, 'batch_size': 354, 'embedding_size': 192, 'dropout_lvl': 0.38161652635756105, 'spatial_dropout': 0, 'gru_units': 201, 'conv_filters': 229, 'conv_kernel': 1, 'fc_layers': 2, 'fc_dense': 13}\n",
      "{'multigpu': False, 'vocab_size': 9999, 'verbose': 0, 'embedding_size': 192, 'dropout_lvl': 0.38161652635756105, 'spatial_dropout': 0, 'gru_units': 201, 'conv_filters': 229, 'conv_kernel': 1, 'fc_layers': 2, 'fc_dense': 13}\n",
      "CV scores: [0.8264938804895609, 0.876769858411327, 0.857177148343735]\n",
      "Last eval:  [2, 354, 192, 0.38161652635756105, 0, 201, 229, 1, 2, 13]  - Score  -0.8534802957482076\n",
      "Current iter:  9  - Score  -0.8910803314323429  - Args:  [2, 265, 458, 0.18879217057554737, 1, 178, 113, 5, 2, 20]\n",
      "Testing parameters: {'epochs': 3, 'batch_size': 93, 'embedding_size': 192, 'dropout_lvl': 0.47091847437671136, 'spatial_dropout': 0, 'gru_units': 203, 'conv_filters': 205, 'conv_kernel': 3, 'fc_layers': 3, 'fc_dense': 23}\n",
      "{'multigpu': False, 'vocab_size': 9999, 'verbose': 0, 'embedding_size': 192, 'dropout_lvl': 0.47091847437671136, 'spatial_dropout': 0, 'gru_units': 203, 'conv_filters': 205, 'conv_kernel': 3, 'fc_layers': 3, 'fc_dense': 23}\n",
      "CV scores: [0.8884089272858171, 0.8599712023038157, 0.8888622179548727]\n",
      "Last eval:  [3, 93, 192, 0.47091847437671136, 0, 203, 205, 3, 3, 23]  - Score  -0.8790807825148352\n",
      "Current iter:  10  - Score  -0.8910803314323429  - Args:  [2, 265, 458, 0.18879217057554737, 1, 178, 113, 5, 2, 20]\n"
     ]
    }
   ],
   "source": [
    "counter = 0\n",
    "def onstep(res):\n",
    "    global counter\n",
    "    x0 = res.x_iters   # List of input points\n",
    "    y0 = res.func_vals # Evaluation of input points\n",
    "    print('Last eval: ', x0[-1], \n",
    "          ' - Score ', y0[-1])\n",
    "    print('Current iter: ', counter, \n",
    "          ' - Score ', res.fun, \n",
    "          ' - Args: ', res.x)\n",
    "    joblib.dump((x0, y0), 'checkpoint.pkl') # Saving a checkpoint to disk\n",
    "    counter += 1\n",
    "\n",
    "def make_objective(create_model, X, y, space, cv, scoring,\n",
    "                   multigpu, vocab_size, verbose=0):\n",
    "    # This decorator converts your objective function with named arguments into one that\n",
    "    # accepts a list as argument, while doing the conversion automatically.\n",
    "    @use_named_args(space) \n",
    "    def objective(**params):\n",
    "        \n",
    "        arch_params = create_model.__code__.co_varnames\n",
    "        \n",
    "        model_params = {p:params[p] for p in params if p in arch_params}\n",
    "        fit_params = {p:params[p]for p in params if p not in arch_params}\n",
    "        \n",
    "        model = KerasClassifier(build_fn=create_model, \n",
    "                                multigpu=multigpu,\n",
    "                                vocab_size=vocab_size,\n",
    "                                verbose=verbose,\n",
    "                                **model_params)\n",
    "        \n",
    "        score = list()\n",
    "        print(\"Testing parameters:\", params)\n",
    "        print(model.sk_params)\n",
    "        for j, (train_index, test_index) in enumerate(skf.split(X, y)):      \n",
    "            model.fit(X[train_index,:], y[train_index], **fit_params)\n",
    "            val_preds = model.predict(X[test_index,:])\n",
    "            score.append(scoring(y_true=y[test_index], y_pred=val_preds))\n",
    "\n",
    "        \n",
    "        print(\"CV scores:\", score)\n",
    "        return np.mean(score) * -1\n",
    "\n",
    "    return objective\n",
    "\n",
    "objective = make_objective(create_model,\n",
    "                           train_data, train_labels,\n",
    "                           space=dimensions,\n",
    "                           cv=skf,\n",
    "                           scoring=accuracy_score,\n",
    "                           multigpu=False,\n",
    "                           vocab_size = len(np.unique(train_data)),\n",
    "                           verbose=0)\n",
    "\n",
    "\n",
    "gp_round = gp_minimize(func=objective,\n",
    "                       x0=x0,              # already examined values for x\n",
    "                       y0=y0,              # observed values for x0\n",
    "                       dimensions=dimensions,\n",
    "                       acq_func='gp_hedge', # Expected Improvement.\n",
    "                       n_calls=10,\n",
    "                       callback=[onstep],\n",
    "                       random_state=1)"
   ]
  },
  {
   "cell_type": "code",
   "execution_count": 25,
   "metadata": {
    "colab": {
     "base_uri": "https://localhost:8080/",
     "height": 34
    },
    "colab_type": "code",
    "id": "kUXB8zCtRvzU",
    "outputId": "d6698b45-8cb4-44da-9e24-7f8220bea1a8"
   },
   "outputs": [
    {
     "name": "stdout",
     "output_type": "stream",
     "text": [
      "[2, 265, 458, 0.18879217057554737, 1, 178, 113, 5, 2, 20] -0.8910803314323429\n"
     ]
    }
   ],
   "source": [
    "best_parameters = gp_round.x\n",
    "best_result = gp_round.fun\n",
    "print(best_parameters, best_result)"
   ]
  },
  {
   "cell_type": "code",
   "execution_count": 0,
   "metadata": {
    "colab": {},
    "colab_type": "code",
    "id": "coSzJ32OSOrR"
   },
   "outputs": [],
   "source": []
  }
 ],
 "metadata": {
  "accelerator": "GPU",
  "colab": {
   "collapsed_sections": [
    "hUvgEZ4ORvwF",
    "15H1-CenRvwM",
    "v6ET90r_Rvwk"
   ],
   "name": "Copy of skopt_workshop.ipynb",
   "provenance": [],
   "version": "0.3.2"
  },
  "kernelspec": {
   "display_name": "Python 3",
   "language": "python",
   "name": "python3"
  },
  "language_info": {
   "codemirror_mode": {
    "name": "ipython",
    "version": 3
   },
   "file_extension": ".py",
   "mimetype": "text/x-python",
   "name": "python",
   "nbconvert_exporter": "python",
   "pygments_lexer": "ipython3",
   "version": "3.6.8"
  }
 },
 "nbformat": 4,
 "nbformat_minor": 1
}
